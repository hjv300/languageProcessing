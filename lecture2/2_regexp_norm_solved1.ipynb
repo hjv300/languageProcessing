{
 "cells": [
  {
   "cell_type": "markdown",
   "id": "b1667067",
   "metadata": {},
   "source": [
    "## Exercise 2:\n",
    "\n",
    "Write a function \"print_res\" that takes a regular expression and a string as parameters, and returns the string if it contains the given regular expression.\n",
    "read the file sherlock.txt (encoding=\"utf8\" when you open it) then call your function so that the following is done:\n",
    "\n",
    "1: all lines that start with \"A\" (capital a) and end with a fullstop are printed. \n",
    "2: all lines that start with \"H\" and contain 70 characters are printed.\n"
   ]
  },
  {
   "cell_type": "code",
   "execution_count": null,
   "id": "393bd36e",
   "metadata": {
    "scrolled": false
   },
   "outputs": [],
   "source": [
    "import re\n",
    "sherlock=\"sherlock.txt\"\n",
    "def print_res(pattern,text):\n",
    "    if re.search(pattern,text):\n",
    "            print(text)                \n",
    "with open(sherlock,'r',encoding=\"utf-8\") as f:\n",
    "    lines=f.readlines()\n",
    "    for l in lines:\n",
    "        print_res(r\"^A.*[\\.]$\",l)\n",
    "    for l in lines:\n",
    "        print_res(\"^H.{69}\",l)\n",
    "        "
   ]
  },
  {
   "cell_type": "markdown",
   "id": "f5b3d59d",
   "metadata": {},
   "source": [
    "## Exercise  2a\n",
    "Define a function \"print_lines\" that takes a file and a regular expression as parameters and\n",
    "prints all lines that contain the pattern preceding them with their line number. Run \"print_lines with the file sherlock.txt and a regular expression that finds lines containing an \"e\" as the second letter and \"n\" as the third one.\n"
   ]
  },
  {
   "cell_type": "code",
   "execution_count": null,
   "id": "84b13e2e",
   "metadata": {},
   "outputs": [],
   "source": [
    "# 2a \n",
    "import re\n",
    "sherlock=\"sherlock.txt\"\n",
    "def print_lines(file,pattern):\n",
    "    with open(file,'r',encoding=\"utf-8\") as f:\n",
    "        lines=f.readlines()\n",
    "        for i,l in enumerate(lines):\n",
    "            if re.search(pattern,l):\n",
    "                print(i,l)\n",
    "print_lines(sherlock,r\"^.en\")"
   ]
  },
  {
   "cell_type": "markdown",
   "id": "75d5bc2d",
   "metadata": {},
   "source": [
    "## Exercise 3:\n",
    "find all words in wordlist that start with \"o\" or \"O\" and end with \"ed\" "
   ]
  },
  {
   "cell_type": "markdown",
   "id": "001ad652",
   "metadata": {},
   "source": [
    "## Exercise 4: \n",
    "Write a tokenizer for English using regular expressions.\n",
    "test it on mytext\n",
    "\"The orchestra played a new song. Mr. Brown didn't like it, even if he had payed 2,000 $ for it. He said: 'That was a pity'\""
   ]
  },
  {
   "cell_type": "markdown",
   "id": "75ac1085",
   "metadata": {},
   "source": [
    "## Finding word stems \n",
    "Find words' stem usually removing suffixes.\n",
    "## Exercise 6:\n",
    "In NLTK book there is an easy implementation of a stemming function.\n",
    "Test it on the sentence: \" Hi guys! Try the stemming of this text relating to women and men, who are sitting on the banks in this big garden, where there are many geese and ducks.\""
   ]
  },
  {
   "cell_type": "code",
   "execution_count": null,
   "id": "4dea8d8e",
   "metadata": {},
   "outputs": [],
   "source": [
    "import string\n",
    "import nltk\n",
    "from nltk.tokenize import word_tokenize\n",
    "raw=\"\"\"Hi guys! Try the stemming of this text relating to women and men, who are sitting on the banks in this big garden, where there are many geese and ducks.\"\"\"\n",
    "def stem(word):\n",
    "    suffixes=['ing','ly','ed','ious','ies','ive','es','s','ment']\n",
    "    for suffix in suffixes:\n",
    "        if word.endswith(suffix):\n",
    "            return word[:-len(suffix)]\n",
    "    return word\n",
    "tokens=word_tokenize(raw.lower())\n",
    "for el in tokens:\n",
    "    el=el.lower()\n",
    "    print(stem(el))"
   ]
  },
  {
   "cell_type": "markdown",
   "id": "2d973516",
   "metadata": {},
   "source": [
    "# Exercise 7:\n",
    "Run the nltk.PorterStemmer on tokens."
   ]
  }
 ],
 "metadata": {
  "kernelspec": {
   "display_name": "Python 3 (ipykernel)",
   "language": "python",
   "name": "python3"
  },
  "language_info": {
   "codemirror_mode": {
    "name": "ipython",
    "version": 3
   },
   "file_extension": ".py",
   "mimetype": "text/x-python",
   "name": "python",
   "nbconvert_exporter": "python",
   "pygments_lexer": "ipython3",
   "version": "3.8.13"
  }
 },
 "nbformat": 4,
 "nbformat_minor": 5
}
