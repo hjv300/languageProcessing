{
 "cells": [
  {
   "cell_type": "markdown",
   "metadata": {
    "slideshow": {
     "slide_type": "slide"
    }
   },
   "source": [
    "<img src=\"https://designguide.ku.dk/download/co-branding/ku_logo_uk_h.png\" alt=\"University logo\" width=\"300\" align=\"right\"/>"
   ]
  },
  {
   "cell_type": "markdown",
   "metadata": {
    "slideshow": {
     "slide_type": "-"
    }
   },
   "source": [
    "## Language Processing 1\n",
    "\n",
    "### Session 8\n",
    "\n",
    "##### Manex Agirrezabal\n",
    "\n",
    "<br/> \n",
    "<br/>\n",
    "\n",
    " *\\- How many legs does a dog have if you call its tail a leg? Four.*\n",
    "\n",
    " *\\- Calling a tail a leg doesn’t make it one.*\n",
    "\n",
    "Attributed to Abraham Lincoln\n"
   ]
  },
  {
   "cell_type": "markdown",
   "metadata": {
    "slideshow": {
     "slide_type": "slide"
    }
   },
   "source": [
    "### In the previous class\n",
    "\n",
    "We learned about:\n",
    "\n",
    " * Sentiment Analysis"
   ]
  },
  {
   "cell_type": "markdown",
   "metadata": {
    "slideshow": {
     "slide_type": "slide"
    }
   },
   "source": [
    "### In this class:\n",
    "\n",
    "I would like you to learn about:\n",
    "\n",
    "  * Lexical semantics\n",
    "  * WordNet"
   ]
  },
  {
   "cell_type": "markdown",
   "metadata": {
    "slideshow": {
     "slide_type": "slide"
    }
   },
   "source": [
    "### Lexical semantics"
   ]
  },
  {
   "cell_type": "markdown",
   "metadata": {
    "slideshow": {
     "slide_type": "subslide"
    }
   },
   "source": [
    "Concerned with the analysis of word meanings and relations between them."
   ]
  },
  {
   "cell_type": "markdown",
   "metadata": {
    "slideshow": {
     "slide_type": "subslide"
    }
   },
   "source": [
    "#### Some definitions:\n",
    "\n",
    "   * Word form: A particular form of a word (typically distinguished by their grammatical inflections)\n",
    "   * Lemma: Grammatical form that is used to represent a lexeme.\n",
    "   * Lexeme: a pairing of a particular form (orthographic or phonological) with its meaning\n",
    "   * Lexicon: A finite set of lexemes\n",
    "   * Lemmatization: The process of mapping from a word form to a lemma"
   ]
  },
  {
   "cell_type": "markdown",
   "metadata": {
    "slideshow": {
     "slide_type": "fragment"
    }
   },
   "source": [
    "Lemmatization is not always deterministic, as it may depend on the context."
   ]
  },
  {
   "cell_type": "markdown",
   "metadata": {
    "slideshow": {
     "slide_type": "fragment"
    }
   },
   "source": [
    "AMBIGUITY!! If at this point we are not aware about it, be aware!"
   ]
  },
  {
   "cell_type": "markdown",
   "metadata": {
    "slideshow": {
     "slide_type": "subslide"
    }
   },
   "source": [
    "### 2 examples\n",
    "\n",
    "  - He has looked at 14 baseball and football stadiums and **found** that only one – private Dodger Stadium – brought more money into a city than it took out.\n",
    "\n",
    "  - Culturally speaking, this city has increasingly displayed its determination to **found** the sort of institutions that attract the esteem of Eastern urbanites."
   ]
  },
  {
   "cell_type": "markdown",
   "metadata": {
    "slideshow": {
     "slide_type": "subslide"
    }
   },
   "source": [
    "Also, lemmas are Part-Of-Speech specific:\n",
    "\n",
    "  * Two records (n)\n",
    "  * To record (v)"
   ]
  },
  {
   "cell_type": "markdown",
   "metadata": {
    "slideshow": {
     "slide_type": "subslide"
    }
   },
   "source": [
    "The meaning of a lemma can also vary enormously given the context."
   ]
  },
  {
   "cell_type": "markdown",
   "metadata": {
    "slideshow": {
     "slide_type": "fragment"
    }
   },
   "source": [
    "Check these two examples:\n",
    "\n",
    "  * Instead, a **bank** can hold the investments in a custodial account in the client’s name.\n",
    "  * But as agriculture burgeons on the east **bank**, the river will shrink even more."
   ]
  },
  {
   "cell_type": "markdown",
   "metadata": {
    "slideshow": {
     "slide_type": "fragment"
    }
   },
   "source": [
    "where the lemma **bank** means something like 'financial institution' and 'sloping mound', respectively."
   ]
  },
  {
   "cell_type": "markdown",
   "metadata": {
    "slideshow": {
     "slide_type": "fragment"
    }
   },
   "source": [
    "We represent this contextual variation by saying:\n",
    "\n",
    "**the lemma *bank* has two senses**"
   ]
  },
  {
   "cell_type": "markdown",
   "metadata": {
    "slideshow": {
     "slide_type": "subslide"
    }
   },
   "source": [
    "### Word sense\n",
    "\n",
    "A discrete representation of one aspect of the meaning of a word.\n",
    "\n",
    "Following lexicographic tradition, we can call the two senses of bank $bank^1$ and $bank^2$."
   ]
  },
  {
   "cell_type": "markdown",
   "metadata": {
    "slideshow": {
     "slide_type": "subslide"
    }
   },
   "source": [
    "<center>Is there any relation between the two senses of bank?</center>\n",
    "\n",
    "<center>The financial institution and sloping mound? They seem relatively unrelated</center>"
   ]
  },
  {
   "cell_type": "markdown",
   "metadata": {
    "slideshow": {
     "slide_type": "fragment"
    }
   },
   "source": [
    "In these cases, we say that $bank^1$ and $bank^2$ have a relation of **homonymy**."
   ]
  },
  {
   "cell_type": "markdown",
   "metadata": {
    "slideshow": {
     "slide_type": "subslide"
    }
   },
   "source": [
    "Sometimes, however, there is some semantic connection between the senses of a word.\n",
    "\n",
    "Check the following example:\n",
    "\n",
    " * While some **banks** furnish sperm only to married women, others are much less restrictive."
   ]
  },
  {
   "cell_type": "markdown",
   "metadata": {
    "slideshow": {
     "slide_type": "fragment"
    }
   },
   "source": [
    "This is not a 'sloping mound' and it is not a 'financial institution' either.\n",
    "\n",
    "But we can use bank ($bank^3$) as a repository for biological entities:\n",
    "\n",
    "  * Blood bank\n",
    "  * Egg bank\n",
    "  * Sperm bank"
   ]
  },
  {
   "cell_type": "markdown",
   "metadata": {
    "slideshow": {
     "slide_type": "subslide"
    }
   },
   "source": [
    "$bank^1$ and $bank^3$ are both repositories! They're quite related semantically.\n",
    "\n",
    "In these cases, we say that they have a relation of **polysemy**."
   ]
  },
  {
   "cell_type": "markdown",
   "metadata": {
    "slideshow": {
     "slide_type": "subslide"
    }
   },
   "source": [
    "#### Homonymy vs. Polysemy\n",
    "\n",
    "Two senses are written in the same way and have some semantic relationship $\\rightarrow$ Polysemy\n",
    "\n",
    "Two senses are written in the same way (or sound similarly) and don't have a semantic relationship $\\rightarrow$ Homonymy"
   ]
  },
  {
   "cell_type": "markdown",
   "metadata": {
    "slideshow": {
     "slide_type": "subslide"
    }
   },
   "source": [
    "Last example with the word bank:\n",
    "\n",
    "  * The **bank** is on the corner of Nassau and Witherspoon"
   ]
  },
  {
   "cell_type": "markdown",
   "metadata": {
    "slideshow": {
     "slide_type": "fragment"
    }
   },
   "source": [
    "This sense, which we can call $bank^4$, means something like 'the building (physical building) belonging to a financial institution'."
   ]
  },
  {
   "cell_type": "markdown",
   "metadata": {
    "slideshow": {
     "slide_type": "fragment"
    }
   },
   "source": [
    "This kind of relationship happens quite often. For example:\n",
    "\n",
    "  * School\n",
    "  * University\n",
    "  * Hospital"
   ]
  },
  {
   "cell_type": "markdown",
   "metadata": {
    "slideshow": {
     "slide_type": "fragment"
    }
   },
   "source": [
    "This systematic relationship can be represented as:\n",
    "\n",
    "$$Building \\rightarrow Organization$$"
   ]
  },
  {
   "cell_type": "markdown",
   "metadata": {
    "slideshow": {
     "slide_type": "fragment"
    }
   },
   "source": [
    "And this kind of polysemy relation is called **metonymy**."
   ]
  },
  {
   "cell_type": "markdown",
   "metadata": {
    "slideshow": {
     "slide_type": "subslide"
    }
   },
   "source": [
    "Other examples:\n",
    "\n",
    "Author (<i>Jane Austen</i> wrote Emma) $\\leftarrow\\rightarrow$ Works of Author (I really love <i>Jane Austen</i>)\n",
    "\n",
    "Animal(The <i>chicken</i> was domesticated in Asia) $\\leftarrow\\rightarrow$ Meat(The <i>chicken</i> was overcooked)\n",
    "\n",
    "Tree (<i>Plums</i> have beautiful blossoms) $\\leftarrow\\rightarrow$ Fruit (I ate a preserved <i>plum</i> yesterday)"
   ]
  },
  {
   "cell_type": "markdown",
   "metadata": {
    "slideshow": {
     "slide_type": "subslide"
    }
   },
   "source": [
    "#### Synonymy\n",
    "\n",
    "When there are two different lemmas (words) and their senses are identical, or nearly identical, we say the two senses are **synonyms**."
   ]
  },
  {
   "cell_type": "markdown",
   "metadata": {
    "slideshow": {
     "slide_type": "fragment"
    }
   },
   "source": [
    "Examples:\n",
    "\n",
    "  * couch / sofa\n",
    "  * filbert / hazelnut\n",
    "  * car / automobile"
   ]
  },
  {
   "cell_type": "markdown",
   "metadata": {
    "slideshow": {
     "slide_type": "subslide"
    }
   },
   "source": [
    "A more formal definition:\n",
    "\n",
    "Two words are synonyms if they are substitutable one for the other in any sentence without changing the truth conditions of the sentence."
   ]
  },
  {
   "cell_type": "markdown",
   "metadata": {
    "slideshow": {
     "slide_type": "fragment"
    }
   },
   "source": [
    "Consider the words 'big' and 'large':"
   ]
  },
  {
   "cell_type": "markdown",
   "metadata": {
    "slideshow": {
     "slide_type": "subslide"
    }
   },
   "source": [
    " * How **big** is that plane?\n",
    " \n",
    " * Would I be flying on a **large** or small plane?"
   ]
  },
  {
   "cell_type": "markdown",
   "metadata": {
    "slideshow": {
     "slide_type": "fragment"
    }
   },
   "source": [
    "BUT, consider these:"
   ]
  },
  {
   "cell_type": "markdown",
   "metadata": {
    "slideshow": {
     "slide_type": "fragment"
    }
   },
   "source": [
    " * Miss Nelson, for instance, became a kind of **big** sister to Mrs. Van Tassel’s son, Benjamin.\n",
    " * ?Miss Nelson, for instance, became a kind of **large** sister to Mrs. Van Tassel’s son, Benjamin."
   ]
  },
  {
   "cell_type": "markdown",
   "metadata": {
    "slideshow": {
     "slide_type": "subslide"
    }
   },
   "source": [
    "The word big has a sense that means older or grown up\n",
    "\n",
    "The word large doesn't have it."
   ]
  },
  {
   "cell_type": "markdown",
   "metadata": {
    "slideshow": {
     "slide_type": "subslide"
    }
   },
   "source": [
    "### Antonymy"
   ]
  },
  {
   "cell_type": "markdown",
   "metadata": {
    "slideshow": {
     "slide_type": "fragment"
    }
   },
   "source": [
    "Antonyms are words with opposite meaning, such as"
   ]
  },
  {
   "cell_type": "markdown",
   "metadata": {
    "slideshow": {
     "slide_type": "fragment"
    }
   },
   "source": [
    " * Long / short\n",
    " * Big / little\n",
    " * Fast / slow\n",
    " * Dark / light\n",
    " * Rise / fall\n",
    " * Hot / cold\n",
    " * In / out\n",
    " * Up / down"
   ]
  },
  {
   "cell_type": "markdown",
   "metadata": {
    "slideshow": {
     "slide_type": "subslide"
    }
   },
   "source": [
    "But antonyms are hard to define:\n",
    "\n",
    "  * antonyms have very different meanings, since they are opposite\n",
    "  * they have very similar meanings, since they share almost all aspects of their meaning except their position on a scale, or their direction\n",
    "  \n",
    "Thus, automatically distinguishing synonyms from antonyms can be difficult."
   ]
  },
  {
   "cell_type": "markdown",
   "metadata": {
    "slideshow": {
     "slide_type": "subslide"
    }
   },
   "source": [
    "### Hyponymy"
   ]
  },
  {
   "cell_type": "markdown",
   "metadata": {
    "slideshow": {
     "slide_type": "fragment"
    }
   },
   "source": [
    "#### Hyponymy:\n",
    "\n",
    "It denotes that one word is a subordinate of the other.\n",
    "\n",
    "<center><b>Spoon</b> is hyponym of <b>cutlery</b></center>\n",
    "\n",
    "#### Hypernymy:\n",
    "\n",
    "This denotes that one word is superordinate of the other, or its meaning is broader than the other.\n",
    "\n",
    "<center><b>Fruit</b> is hypernym of <b>mango</b></center>\n",
    "<center><b>Color</b> is hypernym of <b>red</b></center>"
   ]
  },
  {
   "cell_type": "markdown",
   "metadata": {
    "slideshow": {
     "slide_type": "subslide"
    }
   },
   "source": [
    "### Meronymy"
   ]
  },
  {
   "cell_type": "markdown",
   "metadata": {
    "slideshow": {
     "slide_type": "fragment"
    }
   },
   "source": [
    "#### Meronymy:\n",
    "\n",
    "This represents the part-whole (part of X) relationship between two senses.\n",
    "\n",
    "<center><b>Wheel</b> is a meronym of <b>car</b></center>\n",
    "\n",
    "#### Holonymy:\n",
    "\n",
    "This is the opposite of meronymy.\n",
    "\n",
    "<center><b>Car</b> is a holonym of <b>wheel</b></center>"
   ]
  },
  {
   "cell_type": "markdown",
   "metadata": {
    "slideshow": {
     "slide_type": "subslide"
    }
   },
   "source": [
    "<center>And how do we represent all this information, say, in Python?</center>"
   ]
  },
  {
   "cell_type": "markdown",
   "metadata": {
    "slideshow": {
     "slide_type": "slide"
    }
   },
   "source": [
    "### WordNet\n",
    "\n",
    "WordNet is the most used lexical database for sense relations."
   ]
  },
  {
   "cell_type": "markdown",
   "metadata": {
    "slideshow": {
     "slide_type": "subslide"
    }
   },
   "source": [
    "WordNet consists of three separate databases:\n",
    "\n",
    " * Nouns\n",
    " * Verbs\n",
    " * Adjectives and adverbs\n",
    "\n",
    "Each database consists of a set of lemmas, each one annotated with a set of senses.\n",
    "\n",
    "Function words are not included in WordNet."
   ]
  },
  {
   "cell_type": "markdown",
   "metadata": {
    "slideshow": {
     "slide_type": "subslide"
    }
   },
   "source": [
    "WordNet can be accessed via [the web](http://rali.iro.umontreal.ca/rali/?q=en/wordnet-browsing) or [downloaded](https://wordnet.princeton.edu/download) and accessed locally.\n",
    "\n",
    "You can also use it from NLTK."
   ]
  },
  {
   "cell_type": "markdown",
   "metadata": {
    "slideshow": {
     "slide_type": "subslide"
    }
   },
   "source": [
    "The WordNet 3.0 release has\n",
    "\n",
    "  * 117,097 nouns\n",
    "  * 11,488 verbs\n",
    "  * 22,141 adjectives\n",
    "  * 4,601 adverbs\n",
    "  \n",
    "The average noun has 1.23 senses, and the average verb has 2.16 senses."
   ]
  },
  {
   "cell_type": "markdown",
   "metadata": {},
   "source": [
    "Just to let you know, Wordnet is organized on what they call Synonym sets, or *synsets*."
   ]
  },
  {
   "cell_type": "markdown",
   "metadata": {
    "slideshow": {
     "slide_type": "slide"
    }
   },
   "source": [
    "#### How to get WordNet working\n",
    "\n",
    "```\n",
    ">>> import nltk\n",
    ">>> nltk.download()\n",
    "```\n",
    "\n",
    "Make sure that the `Download Directory` shown below, points to a directory at your home folder. Something like:\n",
    "\n",
    "`YOUR-HOME-DIRECTORY/nltk_data`\n",
    "\n",
    "There, in the “corpora” section, install “wordnet” and “omw”. Then, close the window."
   ]
  },
  {
   "cell_type": "code",
   "execution_count": 2,
   "metadata": {
    "slideshow": {
     "slide_type": "subslide"
    }
   },
   "outputs": [],
   "source": [
    "import numpy as np\n",
    "import nltk\n",
    "from nltk.corpus import wordnet as wn\n",
    "\n",
    "#Don't forget to download wordnet and omw"
   ]
  },
  {
   "cell_type": "code",
   "execution_count": 2,
   "metadata": {
    "slideshow": {
     "slide_type": "skip"
    }
   },
   "outputs": [
    {
     "name": "stderr",
     "output_type": "stream",
     "text": [
      "[nltk_data] Downloading package wordnet to /Users/jbt694/nltk_data...\n",
      "[nltk_data]   Package wordnet is already up-to-date!\n",
      "[nltk_data] Downloading package omw to /Users/jbt694/nltk_data...\n",
      "[nltk_data]   Package omw is already up-to-date!\n"
     ]
    },
    {
     "data": {
      "text/plain": [
       "True"
      ]
     },
     "execution_count": 2,
     "metadata": {},
     "output_type": "execute_result"
    }
   ],
   "source": [
    "nltk.download(\"wordnet\")\n",
    "nltk.download(\"omw\")"
   ]
  },
  {
   "cell_type": "markdown",
   "metadata": {
    "slideshow": {
     "slide_type": "subslide"
    }
   },
   "source": [
    "How to get the synsets of a word:"
   ]
  },
  {
   "cell_type": "code",
   "execution_count": 3,
   "metadata": {},
   "outputs": [
    {
     "data": {
      "text/plain": [
       "['large', 'big']"
      ]
     },
     "execution_count": 3,
     "metadata": {},
     "output_type": "execute_result"
    }
   ],
   "source": [
    "wordsense= wn.synsets(\"big\",pos=\"a\")[0]\n",
    "wordsense.lemma_names()\n"
   ]
  },
  {
   "cell_type": "code",
   "execution_count": 4,
   "metadata": {},
   "outputs": [
    {
     "data": {
      "text/plain": [
       "'a'"
      ]
     },
     "execution_count": 4,
     "metadata": {},
     "output_type": "execute_result"
    }
   ],
   "source": [
    "wn.ADJ"
   ]
  },
  {
   "cell_type": "code",
   "execution_count": 4,
   "metadata": {},
   "outputs": [
    {
     "data": {
      "text/plain": [
       "[Synset('large.a.01'),\n",
       " Synset('big.s.02'),\n",
       " Synset('bad.s.02'),\n",
       " Synset('big.s.04'),\n",
       " Synset('big.s.05'),\n",
       " Synset('big.s.06'),\n",
       " Synset('boastful.s.01'),\n",
       " Synset('big.s.08'),\n",
       " Synset('adult.s.01'),\n",
       " Synset('big.s.10'),\n",
       " Synset('big.s.11'),\n",
       " Synset('big.s.12'),\n",
       " Synset('big.s.13')]"
      ]
     },
     "execution_count": 4,
     "metadata": {},
     "output_type": "execute_result"
    }
   ],
   "source": [
    "wn.synsets(\"big\",pos=\"a\")"
   ]
  },
  {
   "cell_type": "code",
   "execution_count": 3,
   "metadata": {
    "slideshow": {
     "slide_type": "fragment"
    }
   },
   "outputs": [
    {
     "data": {
      "text/plain": [
       "[Synset('record.n.01'),\n",
       " Synset('phonograph_record.n.01'),\n",
       " Synset('record.n.03'),\n",
       " Synset('record.n.04'),\n",
       " Synset('record.n.05'),\n",
       " Synset('record.n.06'),\n",
       " Synset('record.n.07'),\n",
       " Synset('criminal_record.n.01'),\n",
       " Synset('record.v.01'),\n",
       " Synset('record.v.02'),\n",
       " Synset('read.v.08'),\n",
       " Synset('record.v.04'),\n",
       " Synset('commemorate.v.03')]"
      ]
     },
     "execution_count": 3,
     "metadata": {},
     "output_type": "execute_result"
    }
   ],
   "source": [
    "wn.synsets(\"record\")"
   ]
  },
  {
   "cell_type": "code",
   "execution_count": 4,
   "metadata": {
    "slideshow": {
     "slide_type": "subslide"
    }
   },
   "outputs": [
    {
     "data": {
      "text/plain": [
       "[Synset('record.n.01'),\n",
       " Synset('phonograph_record.n.01'),\n",
       " Synset('record.n.03'),\n",
       " Synset('record.n.04'),\n",
       " Synset('record.n.05'),\n",
       " Synset('record.n.06'),\n",
       " Synset('record.n.07'),\n",
       " Synset('criminal_record.n.01')]"
      ]
     },
     "execution_count": 4,
     "metadata": {},
     "output_type": "execute_result"
    }
   ],
   "source": [
    "wn.synsets(\"record\", pos=wn.NOUN) #pos='n' is the same :-)"
   ]
  },
  {
   "cell_type": "markdown",
   "metadata": {
    "slideshow": {
     "slide_type": "subslide"
    }
   },
   "source": [
    "##### The first example of lexical semantics\n",
    "\n",
    "  - He has looked at 14 baseball and football stadiums and **found** that only one – private Dodger Stadium – brought more money into a city than it took out.\n",
    "\n",
    "  - Culturally speaking, this city has increasingly displayed its determination to **found** the sort of institutions that attract the esteem of Eastern urbanites.\n",
    "  \n",
    "Can you find out the proper sense of that word?\n",
    "\n",
    "You can get the synonym set (Synset) of a word by using the function `wn.synsets`, which gets one parameter (one input string) and it can get another parameter called `pos` for Part-Of-Speech.\n",
    "\n",
    "You can check the definition of each synset by using the function `definition` available for each synset and you can see usage examples of that synset with the function `examples`."
   ]
  },
  {
   "cell_type": "code",
   "execution_count": 5,
   "metadata": {
    "slideshow": {
     "slide_type": "fragment"
    }
   },
   "outputs": [
    {
     "data": {
      "text/plain": [
       "[Synset('establish.v.01'),\n",
       " Synset('establish.v.02'),\n",
       " Synset('establish.v.08'),\n",
       " Synset('find.v.01'),\n",
       " Synset('detect.v.01'),\n",
       " Synset('find.v.03'),\n",
       " Synset('determine.v.01'),\n",
       " Synset('find.v.05'),\n",
       " Synset('witness.v.02'),\n",
       " Synset('line_up.v.02'),\n",
       " Synset('discover.v.03'),\n",
       " Synset('discover.v.04'),\n",
       " Synset('find.v.10'),\n",
       " Synset('rule.v.04'),\n",
       " Synset('receive.v.02'),\n",
       " Synset('find.v.13'),\n",
       " Synset('recover.v.01'),\n",
       " Synset('find.v.15'),\n",
       " Synset('find_oneself.v.01')]"
      ]
     },
     "execution_count": 5,
     "metadata": {},
     "output_type": "execute_result"
    }
   ],
   "source": [
    "wn.synsets(\"found\",pos='v')\n",
    "\n",
    "#YOUR CODE HERE"
   ]
  },
  {
   "cell_type": "markdown",
   "metadata": {
    "slideshow": {
     "slide_type": "subslide"
    }
   },
   "source": [
    "Can you do the same with bank and find the different senses that appeared in the examples?"
   ]
  },
  {
   "cell_type": "markdown",
   "metadata": {
    "slideshow": {
     "slide_type": "fragment"
    }
   },
   "source": [
    "  * Instead, a **bank** can hold the investments in a custodial account in the client’s name.\n",
    "  * But as agriculture burgeons on the east **bank**, the river will shrink even more.\n",
    "  * While some **banks** furnish sperm only to married women, others are much less restrictive.\n",
    "  * The **bank** is on the corner of Nassau and Witherspoon"
   ]
  },
  {
   "cell_type": "code",
   "execution_count": 5,
   "metadata": {
    "slideshow": {
     "slide_type": "subslide"
    }
   },
   "outputs": [],
   "source": [
    "#YOUR CODE HERE"
   ]
  },
  {
   "cell_type": "markdown",
   "metadata": {
    "slideshow": {
     "slide_type": "subslide"
    }
   },
   "source": [
    "#### Exercise\n",
    "\n",
    "The WordNet entry for the noun *scrap* lists 4 noun senses and 3 verb senses.\n",
    "\n",
    "\n",
    "\n",
    "Show the hyponymy chain for each of the four noun senses of scrap."
   ]
  },
  {
   "cell_type": "code",
   "execution_count": 10,
   "metadata": {
    "slideshow": {
     "slide_type": "subslide"
    }
   },
   "outputs": [
    {
     "name": "stdout",
     "output_type": "stream",
     "text": [
      "Synset('bit.n.02')\n",
      "a small fragment of something broken off from the whole\n",
      "[Synset('matchwood.n.03'), Synset('scale.n.05'), Synset('scurf.n.01'), Synset('splinter.n.01')]\n",
      "['a bit of rock caught him in the eye']\n",
      "Synset('rubbish.n.01')\n",
      "worthless material that is to be disposed of\n",
      "[Synset('debris.n.01'), Synset('litter.n.02'), Synset('scrap_metal.n.01')]\n",
      "[]\n",
      "Synset('scrap.n.03')\n",
      "a small piece of something that is left over after the rest has been used\n",
      "[]\n",
      "['she jotted it on a scrap of paper', 'there was not a scrap left']\n",
      "Synset('fight.n.02')\n",
      "the act of fighting; any contest or struggle\n",
      "[Synset('affray.n.02'), Synset('battering.n.01'), Synset('beating.n.01'), Synset('brawl.n.02'), Synset('brush.n.06'), Synset('close-quarter_fighting.n.01'), Synset('dogfight.n.04'), Synset('duel.n.01'), Synset('fencing.n.03'), Synset('fistfight.n.01'), Synset('gunfight.n.01'), Synset('hassle.n.02'), Synset('in-fighting.n.01'), Synset('knife_fight.n.01'), Synset('rumble.n.03'), Synset('set-to.n.01'), Synset('shock.n.02'), Synset('single_combat.n.01')]\n",
      "['a fight broke out at the hockey game', 'there was fighting in the streets', 'the unhappy couple got into a terrible scrap']\n"
     ]
    }
   ],
   "source": [
    "scrap_synsets=wn.synsets(\"scrap\", pos=\"n\")\n",
    "for syn in scrap_synsets:\n",
    "    print (syn)\n",
    "    print(syn.definition())\n",
    "    print (syn.hyponyms())\n",
    "    print(syn.examples())\n"
   ]
  },
  {
   "cell_type": "markdown",
   "metadata": {
    "slideshow": {
     "slide_type": "subslide"
    }
   },
   "source": [
    "#### Exercise:\n",
    "\n",
    "Consider the word 'eat' and check the sense that is a verb and can be used in the following context:\n",
    "\n",
    "\"I ate a banana\""
   ]
  },
  {
   "cell_type": "code",
   "execution_count": 91,
   "metadata": {},
   "outputs": [],
   "source": [
    "#YOUR CODE HERE"
   ]
  },
  {
   "cell_type": "markdown",
   "metadata": {
    "slideshow": {
     "slide_type": "subslide"
    }
   },
   "source": [
    "Check the examples of the sense of \"eat\" we are interested (the first sense of the verb).\n",
    "\n",
    "Which kind of things can be eaten? You can get to know which is the element that can be eaten from the definition, but you could also check the hypernyms for each synset."
   ]
  },
  {
   "cell_type": "code",
   "execution_count": 11,
   "metadata": {
    "slideshow": {
     "slide_type": "subslide"
    }
   },
   "outputs": [
    {
     "name": "stdout",
     "output_type": "stream",
     "text": [
      "Synset('banana.n.01') [Synset('herb.n.01')]\n",
      "Synset('banana.n.02') [Synset('edible_fruit.n.01')]\n"
     ]
    }
   ],
   "source": [
    "for sy in wn.synsets(\"banana\"):\n",
    "    print (sy,sy.hypernyms())"
   ]
  },
  {
   "cell_type": "markdown",
   "metadata": {},
   "source": [
    "Can you bring examples of edible fruits, just like bananas?"
   ]
  },
  {
   "cell_type": "code",
   "execution_count": 82,
   "metadata": {
    "scrolled": true
   },
   "outputs": [
    {
     "name": "stdout",
     "output_type": "stream",
     "text": [
      "['ackee', 'akee']\n",
      "['anchovy_pear', 'river_pear']\n",
      "['apple']\n",
      "['apricot']\n",
      "['avocado', 'alligator_pear', 'avocado_pear', 'aguacate']\n",
      "['banana']\n",
      "['Barbados_gooseberry', 'blade_apple']\n",
      "['berry']\n",
      "['breadfruit']\n",
      "['canistel', 'eggfruit']\n",
      "['carambola', 'star_fruit']\n",
      "['carissa_plum', 'natal_plum']\n",
      "['ceriman', 'monstera']\n",
      "['cherry']\n",
      "['citrus', 'citrus_fruit', 'citrous_fruit']\n",
      "['cling', 'clingstone']\n",
      "['cocoa_plum', 'coco_plum', 'icaco']\n",
      "['custard_apple']\n",
      "['date']\n",
      "['dried_fruit']\n",
      "['durian']\n",
      "['elderberry']\n",
      "['feijoa', 'pineapple_guava']\n",
      "['fig']\n",
      "['freestone']\n",
      "['garambulla']\n",
      "['genip', 'Spanish_lime']\n",
      "['genipap', 'genipap_fruit']\n",
      "['grape']\n",
      "['guava']\n",
      "['hog_plum', 'wild_plum']\n",
      "['hog_plum', 'yellow_mombin']\n",
      "['jaboticaba']\n",
      "['jackfruit', 'jak', 'jack']\n",
      "['jujube', 'Chinese_date', 'Chinese_jujube']\n",
      "['kai_apple']\n",
      "['ketembilla', 'kitembilla', 'kitambilla']\n",
      "['kiwi', 'kiwi_fruit', 'Chinese_gooseberry']\n",
      "['lanseh', 'lansa', 'lansat', 'lanset']\n",
      "['litchi', 'litchi_nut', 'litchee', 'lichi', 'leechee', 'lichee', 'lychee']\n",
      "['longanberry', \"dragon's_eye\"]\n",
      "['loquat', 'Japanese_plum']\n",
      "['mamey', 'mammee', 'mammee_apple']\n",
      "['mango']\n",
      "['mangosteen']\n",
      "['marang']\n",
      "['medlar']\n",
      "['medlar']\n",
      "['melon']\n",
      "['mombin']\n",
      "['nectarine']\n",
      "['papaw', 'pawpaw']\n",
      "['papaya']\n",
      "['passion_fruit']\n",
      "['peach']\n",
      "['pear']\n",
      "['pineapple', 'ananas']\n",
      "['pitahaya']\n",
      "['plum']\n",
      "['plumcot']\n",
      "['pomegranate']\n",
      "['prickly_pear']\n",
      "['pulasan', 'pulassan']\n",
      "['quandong', 'quandang', 'quantong', 'native_peach']\n",
      "['quince']\n",
      "['rambutan', 'rambotan']\n",
      "['rose_apple']\n",
      "['sapodilla', 'sapodilla_plum', 'sapota']\n",
      "['sapote', 'mammee', 'marmalade_plum']\n",
      "['sorb', 'sorb_apple']\n",
      "['sour_gourd', 'monkey_bread']\n",
      "['sour_gourd']\n",
      "['tamarind', 'tamarindo']\n",
      "['tangelo', 'ugli', 'ugli_fruit']\n",
      "['windfall']\n"
     ]
    }
   ],
   "source": [
    "#YOUR CODE HERE"
   ]
  },
  {
   "cell_type": "markdown",
   "metadata": {
    "slideshow": {
     "slide_type": "subslide"
    }
   },
   "source": [
    "And we can go up and up in the lexical database.\n",
    "\n",
    "You can see how WordNet has a hierarchical structure."
   ]
  },
  {
   "cell_type": "code",
   "execution_count": 11,
   "metadata": {
    "slideshow": {
     "slide_type": "fragment"
    }
   },
   "outputs": [],
   "source": [
    "wn.synsets(\"banana\")[1].hypernyms()[0].hypernyms()\n",
    "\n",
    "def ret_hypers (sy):\n",
    "    return sy.hypernyms()"
   ]
  },
  {
   "cell_type": "code",
   "execution_count": 12,
   "metadata": {},
   "outputs": [
    {
     "data": {
      "text/plain": [
       "Synset('edible_fruit.n.01')"
      ]
     },
     "execution_count": 12,
     "metadata": {},
     "output_type": "execute_result"
    }
   ],
   "source": [
    "ret_hypers(wn.synsets(\"banana\")[1])[0]"
   ]
  },
  {
   "cell_type": "markdown",
   "metadata": {
    "slideshow": {
     "slide_type": "subslide"
    }
   },
   "source": [
    "#### Exercise\n",
    "\n",
    "Check the senses (synsets) of hand and choose the one that refers to our actual hand. The physical hand.\n",
    "\n",
    "Then, you have to tell me what is the hand composed of.\n",
    "\n",
    "Then, also tell me what is composed by the hand?\n",
    "\n",
    "You may find useful the functions `part_meronyms()` and `part_holonyms()`."
   ]
  },
  {
   "cell_type": "code",
   "execution_count": 35,
   "metadata": {
    "slideshow": {
     "slide_type": "fragment"
    }
   },
   "outputs": [
    {
     "data": {
      "text/plain": [
       "[Synset('hand.n.01'),\n",
       " Synset('hired_hand.n.01'),\n",
       " Synset('handwriting.n.01'),\n",
       " Synset('hand.n.04'),\n",
       " Synset('hand.n.05'),\n",
       " Synset('hand.n.06'),\n",
       " Synset('hand.n.07'),\n",
       " Synset('hand.n.08'),\n",
       " Synset('hand.n.09'),\n",
       " Synset('hand.n.10'),\n",
       " Synset('bridge_player.n.01'),\n",
       " Synset('hand.n.12'),\n",
       " Synset('hand.n.13'),\n",
       " Synset('hand.n.14'),\n",
       " Synset('pass.v.05'),\n",
       " Synset('hand.v.02')]"
      ]
     },
     "execution_count": 35,
     "metadata": {},
     "output_type": "execute_result"
    }
   ],
   "source": [
    "#YOUR CODE HERE\n"
   ]
  },
  {
   "cell_type": "markdown",
   "metadata": {
    "slideshow": {
     "slide_type": "subslide"
    }
   },
   "source": [
    "The other kind of meronyms you can find in WordNet are the ones that will tell us what is something composed by.\n",
    "\n",
    "For example, what is air composed by? (Consider the first sense of air (`air.n.01`)\n",
    "\n",
    "Use the `substance_meronyms()` function."
   ]
  },
  {
   "cell_type": "code",
   "execution_count": 39,
   "metadata": {
    "slideshow": {
     "slide_type": "fragment"
    }
   },
   "outputs": [
    {
     "data": {
      "text/plain": [
       "([Synset('argon.n.01'),\n",
       "  Synset('krypton.n.01'),\n",
       "  Synset('neon.n.01'),\n",
       "  Synset('nitrogen.n.01'),\n",
       "  Synset('oxygen.n.01'),\n",
       "  Synset('xenon.n.01')],\n",
       " Synset('air.n.01'))"
      ]
     },
     "execution_count": 39,
     "metadata": {},
     "output_type": "execute_result"
    }
   ],
   "source": [
    "#YOUR CODE HERE\n"
   ]
  },
  {
   "cell_type": "markdown",
   "metadata": {
    "slideshow": {
     "slide_type": "subslide"
    }
   },
   "source": [
    "Is there something that is composed by air? (again, considering `air.n.01`)"
   ]
  },
  {
   "cell_type": "code",
   "execution_count": 40,
   "metadata": {
    "slideshow": {
     "slide_type": "fragment"
    }
   },
   "outputs": [],
   "source": [
    "#YOUR CODE HERE"
   ]
  },
  {
   "cell_type": "markdown",
   "metadata": {
    "slideshow": {
     "slide_type": "subslide"
    }
   },
   "source": [
    "### Word sense disambiguation"
   ]
  },
  {
   "cell_type": "markdown",
   "metadata": {
    "slideshow": {
     "slide_type": "fragment"
    }
   },
   "source": [
    "In all the examples above, we set or we find what is the used word sense manually. This is not a trivial problem, and many people have attempted to solve the problem of **Word Sense Disambiguation** (WSD).\n",
    "\n",
    "NLTK offers a relatively simple algorithm that can help in some cases, which, even though is not perfect, it can work well enough."
   ]
  },
  {
   "cell_type": "markdown",
   "metadata": {
    "slideshow": {
     "slide_type": "subslide"
    }
   },
   "source": [
    "### Lesk algorithm\n",
    "\n",
    "(from [NLTK documentation](https://www.nltk.org/howto/wsd.html))\n",
    "\n",
    "Performs the classic Lesk algorithm for Word Sense Disambiguation (WSD) using a the definitions of the ambiguous word.\n",
    "\n",
    "Given an ambiguous word and the context in which the word occurs, Lesk returns a Synset with the highest number of overlapping words between the context sentence and different definitions from each Synset"
   ]
  },
  {
   "cell_type": "markdown",
   "metadata": {},
   "source": [
    "Readings:\n",
    "\n",
    " * Lesk, Michael. \"Automatic sense disambiguation using machine readable dictionaries: how to tell a pine cone from an ice cream cone.\" Proceedings of the 5th annual international conference on Systems documentation. 1986.\n",
    " * Vasilescu, Florentina, Philippe Langlais, and Guy Lapalme. \"Evaluating Variants of the Lesk Approach for Disambiguating Words.\" Lrec. 2004."
   ]
  },
  {
   "cell_type": "code",
   "execution_count": 94,
   "metadata": {
    "slideshow": {
     "slide_type": "subslide"
    }
   },
   "outputs": [],
   "source": [
    "from nltk.wsd import lesk\n",
    "from nltk.tokenize import word_tokenize"
   ]
  },
  {
   "cell_type": "code",
   "execution_count": 96,
   "metadata": {},
   "outputs": [
    {
     "data": {
      "text/plain": [
       "['I', 'went', 'to', 'the', 'bank', 'to', 'deposit', 'some', 'money', '.']"
      ]
     },
     "execution_count": 96,
     "metadata": {},
     "output_type": "execute_result"
    }
   ],
   "source": [
    "sent = word_tokenize(\"I went to the bank to deposit some money.\")\n",
    "sent"
   ]
  },
  {
   "cell_type": "code",
   "execution_count": 97,
   "metadata": {},
   "outputs": [
    {
     "name": "stdout",
     "output_type": "stream",
     "text": [
      "Synset('savings_bank.n.02')\n"
     ]
    }
   ],
   "source": [
    "print(lesk(sent, 'bank', 'n'))"
   ]
  },
  {
   "cell_type": "code",
   "execution_count": 142,
   "metadata": {
    "slideshow": {
     "slide_type": "subslide"
    }
   },
   "outputs": [
    {
     "data": {
      "text/plain": [
       "['I',\n",
       " 'went',\n",
       " 'to',\n",
       " 'the',\n",
       " 'bank',\n",
       " 'of',\n",
       " 'the',\n",
       " 'river',\n",
       " 'to',\n",
       " 'get',\n",
       " 'some',\n",
       " 'water',\n",
       " '.']"
      ]
     },
     "execution_count": 142,
     "metadata": {},
     "output_type": "execute_result"
    }
   ],
   "source": [
    "sent = word_tokenize(\"I went to the bank of the river to get some water.\")\n",
    "sent"
   ]
  },
  {
   "cell_type": "code",
   "execution_count": 144,
   "metadata": {},
   "outputs": [
    {
     "data": {
      "text/plain": [
       "(Synset('body_of_water.n.01'),\n",
       " \"the part of the earth's surface covered with water (such as a river or lake or ocean)\")"
      ]
     },
     "execution_count": 144,
     "metadata": {},
     "output_type": "execute_result"
    }
   ],
   "source": [
    "lesk(sent,\"water\"),lesk(sent,\"water\").definition()"
   ]
  },
  {
   "cell_type": "code",
   "execution_count": 145,
   "metadata": {},
   "outputs": [
    {
     "data": {
      "text/plain": [
       "(Synset('bank.n.07'),\n",
       " 'a slope in the turn of a road or track; the outside is higher than the inside in order to reduce the effects of centrifugal force')"
      ]
     },
     "execution_count": 145,
     "metadata": {},
     "output_type": "execute_result"
    }
   ],
   "source": [
    "lesk(sent, 'bank',\"n\"),lesk(sent, 'bank',\"n\").definition()"
   ]
  },
  {
   "cell_type": "markdown",
   "metadata": {
    "slideshow": {
     "slide_type": "subslide"
    }
   },
   "source": [
    "### Exercise\n",
    "\n",
    "Please find two examples that the algorithm does not work, and explain why it is not working."
   ]
  },
  {
   "cell_type": "code",
   "execution_count": 16,
   "metadata": {},
   "outputs": [
    {
     "data": {
      "text/plain": [
       "'a minute life form (especially a disease-causing bacterium); the term is not in technical use'"
      ]
     },
     "execution_count": 16,
     "metadata": {},
     "output_type": "execute_result"
    }
   ],
   "source": [
    "#YOUR CODE HERE\n",
    "from nltk.tokenize import word_tokenize\n",
    "from nltk.wsd import lesk\n",
    "sent = word_tokenize('I fixed the bug')\n",
    "lesk((sent), 'bug').definition()"
   ]
  },
  {
   "cell_type": "markdown",
   "metadata": {
    "slideshow": {
     "slide_type": "subslide"
    }
   },
   "source": [
    "#### Word sense similarity\n",
    "\n",
    "We have a network of lexemes/word senses in our hands.\n",
    "\n",
    "Can we use that network to quantify the similarity of two word senses by using the distance in that graph?\n",
    "\n",
    "Yeah! We can do it by using the `path_similarity()` function."
   ]
  },
  {
   "cell_type": "code",
   "execution_count": 20,
   "metadata": {
    "slideshow": {
     "slide_type": "subslide"
    }
   },
   "outputs": [
    {
     "name": "stdout",
     "output_type": "stream",
     "text": [
      "sloping land (especially the slope beside a body of water)\n",
      "a financial institution that accepts deposits and channels the money into lending activities\n",
      "a building in which the business of banking transacted\n",
      "a supply or stock held in reserve for future use (especially in emergencies)\n"
     ]
    },
    {
     "data": {
      "text/plain": [
       "0.06666666666666667"
      ]
     },
     "execution_count": 20,
     "metadata": {},
     "output_type": "execute_result"
    }
   ],
   "source": [
    "wn.path_similarity(wn.synset('ball.n.10'),wn.synset('finger.n.01'))\n",
    "print (wn.synset('bank.n.1').definition()) #3,9,10\n",
    "print (wn.synset('bank.n.2').definition()) #3,9,10\n",
    "print (wn.synset('bank.n.9').definition()) #3,9,10\n",
    "print (wn.synset('bank.n.5').definition())\n",
    "\n",
    "wn.path_similarity(wn.synset('bank.n.2'),wn.synset('bank.n.9'))"
   ]
  },
  {
   "cell_type": "code",
   "execution_count": 21,
   "metadata": {
    "slideshow": {
     "slide_type": "subslide"
    }
   },
   "outputs": [
    {
     "data": {
      "text/plain": [
       "0.3333333333333333"
      ]
     },
     "execution_count": 21,
     "metadata": {},
     "output_type": "execute_result"
    }
   ],
   "source": [
    "wn.path_similarity(wn.synset('dog.n.1'),wn.synset('wolf.n.1'))"
   ]
  },
  {
   "cell_type": "markdown",
   "metadata": {
    "slideshow": {
     "slide_type": "subslide"
    }
   },
   "source": [
    "There are several similarity metrics."
   ]
  },
  {
   "cell_type": "markdown",
   "metadata": {
    "slideshow": {
     "slide_type": "fragment"
    }
   },
   "source": [
    "  * Path Distance Similarity\n",
    "  * Wu-Palmer Similarity\n",
    "  * Jiang-Conrath Similarity\n",
    "  * Leacock Chodorow Similarity\n",
    "  * Lin Similarity\n",
    "  * Resnik Similarity"
   ]
  },
  {
   "cell_type": "code",
   "execution_count": 22,
   "metadata": {
    "slideshow": {
     "slide_type": "fragment"
    }
   },
   "outputs": [],
   "source": [
    "#help(wn.path_similarity)\n",
    "#help(wn.wup_similarity)\n",
    "#help(wn.jcn_similarity)\n",
    "#help(wn.lch_similarity)\n",
    "#help(wn.lin_similarity)\n",
    "#help(wn.res_similarity)"
   ]
  },
  {
   "cell_type": "markdown",
   "metadata": {
    "slideshow": {
     "slide_type": "subslide"
    }
   },
   "source": [
    "#### Entailment\n",
    "\n",
    "If we know that somebody is snoring, can we assume something?"
   ]
  },
  {
   "cell_type": "code",
   "execution_count": 23,
   "metadata": {
    "slideshow": {
     "slide_type": "fragment"
    }
   },
   "outputs": [
    {
     "name": "stdout",
     "output_type": "stream",
     "text": [
      "Synset('snore.n.01') the rattling noise produced when snoring\n",
      "[]\n",
      "Synset('snore.n.02') the act of snoring or producing a snoring sound\n",
      "[]\n",
      "Synset('snore.v.01') breathe noisily during one's sleep\n",
      "[Synset('sleep.v.01')]\n"
     ]
    }
   ],
   "source": [
    "for syn in wn.synsets(\"snore\"):\n",
    "    print (syn,syn.definition())\n",
    "    print (syn.entailments())"
   ]
  },
  {
   "cell_type": "markdown",
   "metadata": {
    "slideshow": {
     "slide_type": "subslide"
    }
   },
   "source": [
    "Can you find more entailments in Wordnet?"
   ]
  },
  {
   "cell_type": "code",
   "execution_count": 24,
   "metadata": {
    "slideshow": {
     "slide_type": "fragment"
    }
   },
   "outputs": [],
   "source": [
    "#YOUR CODE HERE"
   ]
  },
  {
   "cell_type": "markdown",
   "metadata": {
    "slideshow": {
     "slide_type": "subslide"
    }
   },
   "source": [
    "#### Antonyms\n",
    "\n",
    "How can we get the antonym of a word in WordNet?"
   ]
  },
  {
   "cell_type": "markdown",
   "metadata": {
    "slideshow": {
     "slide_type": "fragment"
    }
   },
   "source": [
    "For example, big/small?"
   ]
  },
  {
   "cell_type": "code",
   "execution_count": 25,
   "metadata": {
    "slideshow": {
     "slide_type": "fragment"
    }
   },
   "outputs": [],
   "source": [
    "#YOUR CODE HERE\n"
   ]
  },
  {
   "attachments": {
    "image.png": {
     "image/png": "[encoded data removed]"
    }
   },
   "cell_type": "markdown",
   "metadata": {
    "slideshow": {
     "slide_type": "fragment"
    }
   },
   "source": [
    "What? You cannot find anything to get the antonyms?\n",
    "\n",
    "![image.png](attachment:image.png)"
   ]
  },
  {
   "cell_type": "markdown",
   "metadata": {
    "slideshow": {
     "slide_type": "subslide"
    }
   },
   "source": [
    "From \"**Introduction to WordNet: An On-line Lexical Database**\":\n",
    "\n",
    "Another familiar relation is antonymy, which turns out to be surprisingly difficult to define. The antonym of a word\n",
    "x is sometimes not-x, but not always.\n",
    "\n",
    "For example, rich and poor are antonyms, but to say that someone is not rich does not imply that they must be poor;"
   ]
  },
  {
   "cell_type": "markdown",
   "metadata": {
    "slideshow": {
     "slide_type": "fragment"
    }
   },
   "source": [
    "Antonymy is a lexical relation between word forms, not a semantic relation between word meanings."
   ]
  },
  {
   "cell_type": "markdown",
   "metadata": {
    "slideshow": {
     "slide_type": "slide"
    }
   },
   "source": [
    "#### Interesting readings:\n",
    "\n",
    "  * http://www.aclweb.org/anthology/N15-1165\n",
    "  * https://www.mitpressjournals.org/doi/pdf/10.1162/COLI_a_00164\n",
    "  * http://www.nltk.org/howto/wordnet.html\n",
    "  * http://wordnetcode.princeton.edu/5papers.pdf"
   ]
  },
  {
   "attachments": {
    "image.png": {
     "image/png": "[encoded data removed]"
    }
   },
   "cell_type": "markdown",
   "metadata": {
    "slideshow": {
     "slide_type": "subslide"
    }
   },
   "source": [
    "### Summary of sense relations in WordNet\n",
    "\n",
    "![image.png](attachment:image.png)"
   ]
  },
  {
   "cell_type": "markdown",
   "metadata": {
    "slideshow": {
     "slide_type": "subslide"
    }
   },
   "source": [
    "Playful example"
   ]
  },
  {
   "cell_type": "code",
   "execution_count": 126,
   "metadata": {},
   "outputs": [
    {
     "data": {
      "text/plain": [
       "'go'"
      ]
     },
     "execution_count": 126,
     "metadata": {},
     "output_type": "execute_result"
    }
   ],
   "source": [
    "from nltk.stem import WordNetLemmatizer\n",
    "  \n",
    "lemmatizer = WordNetLemmatizer()\n",
    "\n",
    "lemmatizer.lemmatize(\"went\",pos=\"v\")"
   ]
  },
  {
   "cell_type": "code",
   "execution_count": 140,
   "metadata": {},
   "outputs": [
    {
     "name": "stdout",
     "output_type": "stream",
     "text": [
      "I\n",
      "\n",
      "went v - continue to live through hardship or adversity\n",
      "\n",
      "to\n",
      "\n",
      "the\n",
      "\n",
      "banks n - a container (usually with a slot in the top) for keeping money at home\n",
      "\n",
      "to\n",
      "\n",
      "deposit v - put (something somewhere) firmly\n",
      "\n",
      "some\n",
      "\n",
      "money n - the official currency issued by a government or national bank\n",
      "\n",
      ".\n",
      "\n"
     ]
    }
   ],
   "source": [
    "sent = word_tokenize(\"I went to the banks to deposit some money.\")\n",
    "tags = [tag.lower()[0] for word,tag in nltk.pos_tag(sent)]\n",
    "\n",
    "for word,tag in zip(sent,tags):\n",
    "    if tag in [\"v\",\"n\",\"a\"]:\n",
    "        synset = lesk(sent, lemmatizer.lemmatize(word,pos=tag),pos=tag)\n",
    "    else:\n",
    "        synset = None\n",
    "    if synset is not None:\n",
    "        print(word, tag, \"-\" ,synset.definition())\n",
    "    else:\n",
    "        print(word)\n",
    "    print ()"
   ]
  }
 ],
 "metadata": {
  "celltoolbar": "Slideshow",
  "kernelspec": {
   "display_name": "Python 3 (ipykernel)",
   "language": "python",
   "name": "python3"
  },
  "language_info": {
   "codemirror_mode": {
    "name": "ipython",
    "version": 3
   },
   "file_extension": ".py",
   "mimetype": "text/x-python",
   "name": "python",
   "nbconvert_exporter": "python",
   "pygments_lexer": "ipython3",
   "version": "3.11.5"
  }
 },
 "nbformat": 4,
 "nbformat_minor": 2
}
