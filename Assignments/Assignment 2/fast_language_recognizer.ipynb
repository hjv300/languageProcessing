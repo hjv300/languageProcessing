{
 "cells": [
  {
   "cell_type": "markdown",
   "metadata": {},
   "source": [
    "### Fast language recognizer\n",
    "\n",
    "Please download the texts from Absalon:\n",
    "\n",
    "[textes](https://absalon.ku.dk/files/7715992/download?download_frd=1)\n",
    "\n",
    "[texten](https://absalon.ku.dk/files/7715991/download?download_frd=1)\n",
    "\n",
    "And save them at the same directory as this notebook."
   ]
  },
  {
   "cell_type": "markdown",
   "metadata": {},
   "source": [
    "#### Step 1: Read the data"
   ]
  },
  {
   "cell_type": "code",
   "execution_count": 3,
   "metadata": {},
   "outputs": [
    {
     "name": "stdout",
     "output_type": "stream",
     "text": [
      "data has 2117498 characters, 104 unique.\n"
     ]
    }
   ],
   "source": [
    "# data I/O\n",
    "# Don Quijote de la Mancha, by Miguel de Cervantes\n",
    "data_es = open('./textes.txt', 'r').read() # should be simple plain text file\n",
    "chars_es = list(set(data_es))\n",
    "data_size_es, vocab_size_es = len(data_es), len(chars_es)\n",
    "\n",
    "print ('data has %d characters, %d unique.' % (data_size_es, vocab_size_es))"
   ]
  },
  {
   "cell_type": "code",
   "execution_count": 4,
   "metadata": {},
   "outputs": [
    {
     "name": "stdout",
     "output_type": "stream",
     "text": [
      "data has 775741 characters, 92 unique.\n"
     ]
    }
   ],
   "source": [
    "# data I/O\n",
    "# Pride and Prejudice, by Jane Austen\n",
    "data_en = open('./texten.txt', 'r').read() # should be simple plain text file\n",
    "chars_en = list(set(data_en))\n",
    "data_size_en, vocab_size_en = len(data_en), len(chars_en)\n",
    "\n",
    "print ('data has %d characters, %d unique.' % (data_size_en, vocab_size_en))"
   ]
  },
  {
   "cell_type": "markdown",
   "metadata": {},
   "source": [
    "#### How does the data look like?"
   ]
  },
  {
   "cell_type": "code",
   "execution_count": 5,
   "metadata": {},
   "outputs": [
    {
     "name": "stdout",
     "output_type": "stream",
     "text": [
      " pliego del dicho\n",
      "libro a tres maravedís y medio; \n"
     ]
    }
   ],
   "source": [
    "print (data_es[1000:1050])"
   ]
  },
  {
   "cell_type": "code",
   "execution_count": 6,
   "metadata": {},
   "outputs": [
    {
     "name": "stdout",
     "output_type": "stream",
     "text": [
      "eas,” he continued, “let us return\n",
      "      to Mr. Bi\n"
     ]
    }
   ],
   "source": [
    "print (data_en[10000:10050])"
   ]
  },
  {
   "cell_type": "code",
   "execution_count": 7,
   "metadata": {},
   "outputs": [],
   "source": [
    "import nltk"
   ]
  },
  {
   "cell_type": "markdown",
   "metadata": {},
   "source": [
    "#### Step 2: Get conditional frequencies"
   ]
  },
  {
   "cell_type": "code",
   "execution_count": 8,
   "metadata": {},
   "outputs": [
    {
     "data": {
      "text/plain": [
       "<ConditionalFreqDist with 104 conditions>"
      ]
     },
     "execution_count": 8,
     "metadata": {},
     "output_type": "execute_result"
    }
   ],
   "source": [
    "cfreq_bigrams_corpuses= nltk.ConditionalFreqDist(nltk.bigrams(data_es))\n",
    "cfreq_bigrams_corpuses"
   ]
  },
  {
   "cell_type": "code",
   "execution_count": 9,
   "metadata": {},
   "outputs": [
    {
     "data": {
      "text/plain": [
       "FreqDist({' ': 47195, 's': 25541, 'n': 18164, 'r': 15705, ',': 10299, 'm': 5798, 't': 4903, 'd': 4081, 'l': 3472, 'c': 3043, ...})"
      ]
     },
     "execution_count": 9,
     "metadata": {},
     "output_type": "execute_result"
    }
   ],
   "source": [
    "cfreq_bigrams_corpuses['o']"
   ]
  },
  {
   "cell_type": "markdown",
   "metadata": {},
   "source": [
    "#### Step 3: Get conditional probabilities from frequencies"
   ]
  },
  {
   "cell_type": "code",
   "execution_count": 10,
   "metadata": {},
   "outputs": [],
   "source": [
    "cprob_bigrams_corpuses = nltk.ConditionalProbDist(cfreq_bigrams_corpuses, nltk.MLEProbDist)"
   ]
  },
  {
   "cell_type": "code",
   "execution_count": 11,
   "metadata": {},
   "outputs": [],
   "source": [
    "cfreq_bigrams_corpusen = nltk.ConditionalFreqDist(nltk.bigrams(data_en))\n",
    "cprob_bigrams_corpusen = nltk.ConditionalProbDist(cfreq_bigrams_corpusen, nltk.MLEProbDist)"
   ]
  },
  {
   "cell_type": "code",
   "execution_count": 12,
   "metadata": {},
   "outputs": [],
   "source": [
    "def prod (ite):\n",
    "    if len(ite)==0:\n",
    "        return 1\n",
    "    else:\n",
    "        return ite[0]*prod(ite[1:])"
   ]
  },
  {
   "cell_type": "markdown",
   "metadata": {},
   "source": [
    "#### Step 4: Write a function to get the probability of a sentence, given a language model"
   ]
  },
  {
   "cell_type": "code",
   "execution_count": 13,
   "metadata": {},
   "outputs": [
    {
     "data": {
      "text/plain": [
       "(1.837190970465065e-12, 7.349855830592194e-23)"
      ]
     },
     "execution_count": 13,
     "metadata": {},
     "output_type": "execute_result"
    }
   ],
   "source": [
    "\n",
    "def return_proba (cpd, sentence):\n",
    "    return prod([cpd[bigram[0]].prob(bigram[1]) for bigram in nltk.bigrams(sentence)])\n",
    "\n",
    "return_proba(cprob_bigrams_corpusen,\"I want coffee\"),return_proba(cprob_bigrams_corpuses,\"I want coffee\")"
   ]
  },
  {
   "cell_type": "markdown",
   "metadata": {},
   "source": [
    "#### Step 5: Write a function to get the language in which the text is more likely to be written (either Spanish or English)"
   ]
  },
  {
   "cell_type": "code",
   "execution_count": 14,
   "metadata": {},
   "outputs": [],
   "source": [
    "def spanish_or_english (sent):\n",
    "    if return_proba(cprob_bigrams_corpusen,sent) > return_proba(cprob_bigrams_corpuses,sent):\n",
    "        return \"english\"\n",
    "    else:\n",
    "        return \"spanish\""
   ]
  },
  {
   "cell_type": "markdown",
   "metadata": {},
   "source": [
    "### Playground"
   ]
  },
  {
   "cell_type": "code",
   "execution_count": 15,
   "metadata": {},
   "outputs": [
    {
     "data": {
      "text/plain": [
       "'english'"
      ]
     },
     "execution_count": 15,
     "metadata": {},
     "output_type": "execute_result"
    }
   ],
   "source": [
    "spanish_or_english(\"My hometown is beautiful\")"
   ]
  },
  {
   "cell_type": "code",
   "execution_count": 16,
   "metadata": {},
   "outputs": [
    {
     "data": {
      "text/plain": [
       "'spanish'"
      ]
     },
     "execution_count": 16,
     "metadata": {},
     "output_type": "execute_result"
    }
   ],
   "source": [
    "spanish_or_english(\"My name is Manex and my hometown is called Zumarraga\") #Yes! The model was fooled with this example!"
   ]
  },
  {
   "cell_type": "code",
   "execution_count": 17,
   "metadata": {},
   "outputs": [
    {
     "data": {
      "text/plain": [
       "'english'"
      ]
     },
     "execution_count": 17,
     "metadata": {},
     "output_type": "execute_result"
    }
   ],
   "source": [
    "spanish_or_english(\"My name is Joe and my hometown is called Sacramento\")"
   ]
  },
  {
   "cell_type": "code",
   "execution_count": 18,
   "metadata": {},
   "outputs": [
    {
     "data": {
      "text/plain": [
       "'spanish'"
      ]
     },
     "execution_count": 18,
     "metadata": {},
     "output_type": "execute_result"
    }
   ],
   "source": [
    "spanish_or_english(\"Me llamo William Smith y vivo en el barrio de Bel Air\")"
   ]
  }
 ],
 "metadata": {
  "kernelspec": {
   "display_name": "Python 3 (ipykernel)",
   "language": "python",
   "name": "python3"
  },
  "language_info": {
   "codemirror_mode": {
    "name": "ipython",
    "version": 3
   },
   "file_extension": ".py",
   "mimetype": "text/x-python",
   "name": "python",
   "nbconvert_exporter": "python",
   "pygments_lexer": "ipython3",
   "version": "3.8.8"
  }
 },
 "nbformat": 4,
 "nbformat_minor": 4
}
