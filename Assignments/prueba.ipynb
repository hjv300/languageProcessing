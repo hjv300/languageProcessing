{
 "cells": [
  {
   "cell_type": "code",
   "execution_count": 2,
   "metadata": {},
   "outputs": [
    {
     "name": "stdout",
     "output_type": "stream",
     "text": [
      "['d', 'd', 'd', '-', 'd', 'i', 'i', 'i', 'i', '-', '-', '-', '-']\n"
     ]
    },
    {
     "data": {
      "text/plain": [
       "8.0"
      ]
     },
     "execution_count": 2,
     "metadata": {},
     "output_type": "execute_result"
    }
   ],
   "source": [
    "import numpy as np\n",
    "\n",
    "ops=['i','d','s']\n",
    "\n",
    "def MED_alignment(src_str, trg_str):\n",
    "    src_str = \"#\" + src_str\n",
    "    trg_str = \"#\" + trg_str\n",
    "    \n",
    "    ins_cost = 1\n",
    "    del_cost = 1\n",
    "    sub_cost = 2\n",
    "    \n",
    "    m = len(src_str)\n",
    "    n = len(trg_str)\n",
    "    \n",
    "    alignment = [] #list of actions\n",
    "\n",
    "    #INITIALIZE DISTANCE MATRIX WITH ZEROS\n",
    "    distance_matrix = np.zeros((n,m))\n",
    "\n",
    "    #INITIALIZE COLUMN 0 VALUES\n",
    "    distance_matrix [:,0] = np.arange(0,n,del_cost)\n",
    "    #INITIALIZE ROW 0 VALUES\n",
    "    distance_matrix [0,:] = np.arange(0,m,ins_cost)\n",
    "    \n",
    "    bck = np.zeros((n,m),dtype=str)\n",
    "    \n",
    "    for i in range(1,n): #each column\n",
    "        for j in range(1,m): #each row\n",
    "            insert = distance_matrix[i-1,j] + ins_cost\n",
    "            delete = distance_matrix[i,j-1] + del_cost\n",
    "            if src_str[j]==trg_str[i]:\n",
    "                substi = distance_matrix[i-1,j-1]\n",
    "            else:\n",
    "                substi = distance_matrix[i-1,j-1] + sub_cost\n",
    "\n",
    "            distance_matrix[i,j] = min([insert,delete,substi])\n",
    "            which_op = np.argmin([insert,delete,substi])\n",
    "            bck[i,j] = ops[which_op]\n",
    "            \n",
    "            #print(distance_matrix[i,j],i,j, \"-\",insert,delete,substi, ops[which_op])\n",
    "    #YOUR CODE HERE\n",
    "    row, column = n - 1, m - 1\n",
    "    while row > 0 or column > 0:\n",
    "        if row == 0:\n",
    "            alignment.append(\"d\")\n",
    "            column -= 1\n",
    "        elif column == 0:\n",
    "            alignment.append(\"i\")\n",
    "            row -= 1\n",
    "        else:\n",
    "            if bck[row, column] != 's':\n",
    "                if bck[row, column] == 'i':\n",
    "                    alignment.append(\"i\")\n",
    "                    row -= 1\n",
    "                else:\n",
    "                    alignment.append(\"d\")\n",
    "                    column -= 1\n",
    "            else:\n",
    "                if src_str[column] == trg_str[row]:\n",
    "                    alignment.append(\"-\")\n",
    "                else:\n",
    "                    alignment.append(\"s\")\n",
    "                row -= 1\n",
    "                column -= 1\n",
    "    alignment.reverse()\n",
    "    print(alignment)\n",
    "    #If you uncomment the following command you can see\n",
    "    #the distance matrix in the same way\n",
    "    #that appears in Figure 3.27 from the SLP2 book, page 111.\n",
    "    #print(np.flip(distance_matrix.T, axis=0))\n",
    "    \n",
    "    #RETURN THE LAST ELEMENT\n",
    "    return distance_matrix[-1,-1]\n",
    "\n",
    "MED_alignment (\"intention\",\"execution\")"
   ]
  }
 ],
 "metadata": {
  "kernelspec": {
   "display_name": "langProc",
   "language": "python",
   "name": "python3"
  },
  "language_info": {
   "codemirror_mode": {
    "name": "ipython",
    "version": 3
   },
   "file_extension": ".py",
   "mimetype": "text/x-python",
   "name": "python",
   "nbconvert_exporter": "python",
   "pygments_lexer": "ipython3",
   "version": "3.11.5"
  }
 },
 "nbformat": 4,
 "nbformat_minor": 2
}
