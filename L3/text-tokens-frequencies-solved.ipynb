{
 "cells": [
  {
   "cell_type": "markdown",
   "metadata": {},
   "source": [
    "# Words\n",
    "\n",
    "In this notebook we will learn how to calculate word frequencies and lexical diversity, also known as type to token ratio (TTR), and we will experiment with frequency plots.\n",
    "\n",
    "##### Hint: Check sections 1.3 and  2.1-2 in the Bird et al. (2009) book."
   ]
  },
  {
   "cell_type": "markdown",
   "metadata": {},
   "source": [
    "## 1) Text as word lists, counting tokens and types\n",
    "\n",
    "Start by looking at the following lines of code and explaining what they do."
   ]
  },
  {
   "cell_type": "code",
   "execution_count": 1,
   "metadata": {},
   "outputs": [],
   "source": [
    "text1 = \"my friend was bored at my concert . I insisted that they did not come .\"\n",
    "text2 = \"he gazed and gazed and gazed . amazed amazed amazed\""
   ]
  },
  {
   "cell_type": "code",
   "execution_count": 2,
   "metadata": {},
   "outputs": [
    {
     "data": {
      "text/plain": [
       "'my friend was bored at my concert . I insisted that they did not come .'"
      ]
     },
     "execution_count": 2,
     "metadata": {},
     "output_type": "execute_result"
    }
   ],
   "source": [
    "text1"
   ]
  },
  {
   "cell_type": "code",
   "execution_count": 3,
   "metadata": {},
   "outputs": [
    {
     "data": {
      "text/plain": [
       "'he gazed and gazed and gazed . amazed amazed amazed'"
      ]
     },
     "execution_count": 3,
     "metadata": {},
     "output_type": "execute_result"
    }
   ],
   "source": [
    "text2"
   ]
  },
  {
   "cell_type": "code",
   "execution_count": 4,
   "metadata": {},
   "outputs": [
    {
     "data": {
      "text/plain": [
       "['my',\n",
       " 'friend',\n",
       " 'was',\n",
       " 'bored',\n",
       " 'at',\n",
       " 'my',\n",
       " 'concert',\n",
       " '.',\n",
       " 'I',\n",
       " 'insisted',\n",
       " 'that',\n",
       " 'they',\n",
       " 'did',\n",
       " 'not',\n",
       " 'come',\n",
       " '.']"
      ]
     },
     "execution_count": 4,
     "metadata": {},
     "output_type": "execute_result"
    }
   ],
   "source": [
    "text1v = text1.split()\n",
    "text1v"
   ]
  },
  {
   "cell_type": "code",
   "execution_count": 5,
   "metadata": {},
   "outputs": [
    {
     "data": {
      "text/plain": [
       "['he',\n",
       " 'gazed',\n",
       " 'and',\n",
       " 'gazed',\n",
       " 'and',\n",
       " 'gazed',\n",
       " '.',\n",
       " 'amazed',\n",
       " 'amazed',\n",
       " 'amazed']"
      ]
     },
     "execution_count": 5,
     "metadata": {},
     "output_type": "execute_result"
    }
   ],
   "source": [
    "text2v = text2.split()\n",
    "text2v"
   ]
  },
  {
   "cell_type": "markdown",
   "metadata": {},
   "source": [
    "Now it's your turn to calculate how many words are in each text, their vocabulary size and their lexical diversity."
   ]
  },
  {
   "cell_type": "code",
   "execution_count": 6,
   "metadata": {},
   "outputs": [
    {
     "name": "stdout",
     "output_type": "stream",
     "text": [
      "Text 1\n",
      "Tokens: 16 Types: 14 TTR: 0.875\n",
      "\n",
      "Text 2\n",
      "Tokens: 10 Types:  5 TTR: 0.500\n"
     ]
    }
   ],
   "source": [
    "#YOUR CODE HERE\n",
    "tokens1=len(text1v)\n",
    "tokens2=len(text2v) \n",
    "types1=len(set(text1v))\n",
    "types2=len(set(text2v))\n",
    "print(\"Text 1\")\n",
    "print('Tokens: %2d Types: %2d TTR: %2.3f' % (tokens1, types1, (types1/tokens1)))\n",
    "print(\"\")\n",
    "print(\"Text 2\")\n",
    "print('Tokens: %2d Types: %2d TTR: %2.3f' % (tokens2, types2, (types2/tokens2)))"
   ]
  },
  {
   "cell_type": "markdown",
   "metadata": {},
   "source": [
    "## 2) Using NLTK text corpora"
   ]
  },
  {
   "cell_type": "markdown",
   "metadata": {},
   "source": [
    "The command below loads the packages/libraries called `nltk` and `matplotlib`. You have to download them before running the code.\n",
    "\n",
    "If you get an error that says the following:\n",
    "\n",
    "`ModuleNotFoundError: No module named 'nltk'`\n",
    "\n",
    "and/or\n",
    "\n",
    "`ModuleNotFoundError: No module named 'matplotlib'`\n",
    "\n",
    "that means that you need to install them. [This website](https://docs.anaconda.com/anaconda/navigator/tutorials/manage-packages/) explains how to install packages in Anaconda. There are other ways of installing packages, but we believe this is the most user friendly."
   ]
  },
  {
   "cell_type": "code",
   "execution_count": 7,
   "metadata": {},
   "outputs": [],
   "source": [
    "import nltk\n",
    "\n",
    "from matplotlib import pyplot as plt\n",
    "#matplotlib inline"
   ]
  },
  {
   "cell_type": "markdown",
   "metadata": {},
   "source": [
    "If you do not see any output, that means that NLTK is properly imported and we can start playing with it!\n",
    "\n",
    "The following command downloads the book corpus from NLTK.\n",
    "\n",
    "If all relevant corpora are downloaded, the next command will work without any errors."
   ]
  },
  {
   "cell_type": "code",
   "execution_count": 8,
   "metadata": {
    "scrolled": true
   },
   "outputs": [
    {
     "name": "stderr",
     "output_type": "stream",
     "text": [
      "[nltk_data] Downloading collection 'book'\n",
      "[nltk_data]    | \n",
      "[nltk_data]    | Downloading package abc to\n",
      "[nltk_data]    |     /Users/PatriziaPaggio/nltk_data...\n",
      "[nltk_data]    |   Package abc is already up-to-date!\n",
      "[nltk_data]    | Downloading package brown to\n",
      "[nltk_data]    |     /Users/PatriziaPaggio/nltk_data...\n",
      "[nltk_data]    |   Package brown is already up-to-date!\n",
      "[nltk_data]    | Downloading package chat80 to\n",
      "[nltk_data]    |     /Users/PatriziaPaggio/nltk_data...\n",
      "[nltk_data]    |   Package chat80 is already up-to-date!\n",
      "[nltk_data]    | Downloading package cmudict to\n",
      "[nltk_data]    |     /Users/PatriziaPaggio/nltk_data...\n",
      "[nltk_data]    |   Package cmudict is already up-to-date!\n",
      "[nltk_data]    | Downloading package conll2000 to\n",
      "[nltk_data]    |     /Users/PatriziaPaggio/nltk_data...\n",
      "[nltk_data]    |   Package conll2000 is already up-to-date!\n",
      "[nltk_data]    | Downloading package conll2002 to\n",
      "[nltk_data]    |     /Users/PatriziaPaggio/nltk_data...\n",
      "[nltk_data]    |   Package conll2002 is already up-to-date!\n",
      "[nltk_data]    | Downloading package dependency_treebank to\n",
      "[nltk_data]    |     /Users/PatriziaPaggio/nltk_data...\n",
      "[nltk_data]    |   Package dependency_treebank is already up-to-date!\n",
      "[nltk_data]    | Downloading package genesis to\n",
      "[nltk_data]    |     /Users/PatriziaPaggio/nltk_data...\n",
      "[nltk_data]    |   Package genesis is already up-to-date!\n",
      "[nltk_data]    | Downloading package gutenberg to\n",
      "[nltk_data]    |     /Users/PatriziaPaggio/nltk_data...\n",
      "[nltk_data]    |   Package gutenberg is already up-to-date!\n",
      "[nltk_data]    | Downloading package ieer to\n",
      "[nltk_data]    |     /Users/PatriziaPaggio/nltk_data...\n",
      "[nltk_data]    |   Package ieer is already up-to-date!\n",
      "[nltk_data]    | Downloading package inaugural to\n",
      "[nltk_data]    |     /Users/PatriziaPaggio/nltk_data...\n",
      "[nltk_data]    |   Package inaugural is already up-to-date!\n",
      "[nltk_data]    | Downloading package movie_reviews to\n",
      "[nltk_data]    |     /Users/PatriziaPaggio/nltk_data...\n",
      "[nltk_data]    |   Package movie_reviews is already up-to-date!\n",
      "[nltk_data]    | Downloading package nps_chat to\n",
      "[nltk_data]    |     /Users/PatriziaPaggio/nltk_data...\n",
      "[nltk_data]    |   Package nps_chat is already up-to-date!\n",
      "[nltk_data]    | Downloading package names to\n",
      "[nltk_data]    |     /Users/PatriziaPaggio/nltk_data...\n",
      "[nltk_data]    |   Package names is already up-to-date!\n",
      "[nltk_data]    | Downloading package ppattach to\n",
      "[nltk_data]    |     /Users/PatriziaPaggio/nltk_data...\n",
      "[nltk_data]    |   Package ppattach is already up-to-date!\n",
      "[nltk_data]    | Downloading package reuters to\n",
      "[nltk_data]    |     /Users/PatriziaPaggio/nltk_data...\n",
      "[nltk_data]    |   Package reuters is already up-to-date!\n",
      "[nltk_data]    | Downloading package senseval to\n",
      "[nltk_data]    |     /Users/PatriziaPaggio/nltk_data...\n",
      "[nltk_data]    |   Package senseval is already up-to-date!\n",
      "[nltk_data]    | Downloading package state_union to\n",
      "[nltk_data]    |     /Users/PatriziaPaggio/nltk_data...\n",
      "[nltk_data]    |   Package state_union is already up-to-date!\n",
      "[nltk_data]    | Downloading package stopwords to\n",
      "[nltk_data]    |     /Users/PatriziaPaggio/nltk_data...\n",
      "[nltk_data]    |   Package stopwords is already up-to-date!\n",
      "[nltk_data]    | Downloading package swadesh to\n",
      "[nltk_data]    |     /Users/PatriziaPaggio/nltk_data...\n",
      "[nltk_data]    |   Package swadesh is already up-to-date!\n",
      "[nltk_data]    | Downloading package timit to\n",
      "[nltk_data]    |     /Users/PatriziaPaggio/nltk_data...\n",
      "[nltk_data]    |   Package timit is already up-to-date!\n",
      "[nltk_data]    | Downloading package treebank to\n",
      "[nltk_data]    |     /Users/PatriziaPaggio/nltk_data...\n",
      "[nltk_data]    |   Unzipping corpora/treebank.zip.\n",
      "[nltk_data]    | Downloading package toolbox to\n",
      "[nltk_data]    |     /Users/PatriziaPaggio/nltk_data...\n",
      "[nltk_data]    |   Package toolbox is already up-to-date!\n",
      "[nltk_data]    | Downloading package udhr to\n",
      "[nltk_data]    |     /Users/PatriziaPaggio/nltk_data...\n",
      "[nltk_data]    |   Package udhr is already up-to-date!\n",
      "[nltk_data]    | Downloading package udhr2 to\n",
      "[nltk_data]    |     /Users/PatriziaPaggio/nltk_data...\n",
      "[nltk_data]    |   Package udhr2 is already up-to-date!\n",
      "[nltk_data]    | Downloading package unicode_samples to\n",
      "[nltk_data]    |     /Users/PatriziaPaggio/nltk_data...\n",
      "[nltk_data]    |   Package unicode_samples is already up-to-date!\n",
      "[nltk_data]    | Downloading package webtext to\n",
      "[nltk_data]    |     /Users/PatriziaPaggio/nltk_data...\n",
      "[nltk_data]    |   Package webtext is already up-to-date!\n",
      "[nltk_data]    | Downloading package wordnet to\n",
      "[nltk_data]    |     /Users/PatriziaPaggio/nltk_data...\n",
      "[nltk_data]    |   Package wordnet is already up-to-date!\n",
      "[nltk_data]    | Downloading package wordnet_ic to\n",
      "[nltk_data]    |     /Users/PatriziaPaggio/nltk_data...\n",
      "[nltk_data]    |   Package wordnet_ic is already up-to-date!\n",
      "[nltk_data]    | Downloading package words to\n",
      "[nltk_data]    |     /Users/PatriziaPaggio/nltk_data...\n",
      "[nltk_data]    |   Package words is already up-to-date!\n",
      "[nltk_data]    | Downloading package maxent_treebank_pos_tagger to\n",
      "[nltk_data]    |     /Users/PatriziaPaggio/nltk_data...\n",
      "[nltk_data]    |   Package maxent_treebank_pos_tagger is already up-\n",
      "[nltk_data]    |       to-date!\n",
      "[nltk_data]    | Downloading package maxent_ne_chunker to\n",
      "[nltk_data]    |     /Users/PatriziaPaggio/nltk_data...\n",
      "[nltk_data]    |   Package maxent_ne_chunker is already up-to-date!\n",
      "[nltk_data]    | Downloading package universal_tagset to\n",
      "[nltk_data]    |     /Users/PatriziaPaggio/nltk_data...\n",
      "[nltk_data]    |   Package universal_tagset is already up-to-date!\n",
      "[nltk_data]    | Downloading package punkt to\n",
      "[nltk_data]    |     /Users/PatriziaPaggio/nltk_data...\n",
      "[nltk_data]    |   Package punkt is already up-to-date!\n",
      "[nltk_data]    | Downloading package book_grammars to\n",
      "[nltk_data]    |     /Users/PatriziaPaggio/nltk_data...\n",
      "[nltk_data]    |   Package book_grammars is already up-to-date!\n",
      "[nltk_data]    | Downloading package city_database to\n",
      "[nltk_data]    |     /Users/PatriziaPaggio/nltk_data...\n",
      "[nltk_data]    |   Package city_database is already up-to-date!\n",
      "[nltk_data]    | Downloading package tagsets to\n",
      "[nltk_data]    |     /Users/PatriziaPaggio/nltk_data...\n",
      "[nltk_data]    |   Package tagsets is already up-to-date!\n",
      "[nltk_data]    | Downloading package panlex_swadesh to\n",
      "[nltk_data]    |     /Users/PatriziaPaggio/nltk_data...\n",
      "[nltk_data]    |   Package panlex_swadesh is already up-to-date!\n",
      "[nltk_data]    | Downloading package averaged_perceptron_tagger to\n",
      "[nltk_data]    |     /Users/PatriziaPaggio/nltk_data...\n",
      "[nltk_data]    |   Package averaged_perceptron_tagger is already up-\n",
      "[nltk_data]    |       to-date!\n",
      "[nltk_data]    | \n",
      "[nltk_data]  Done downloading collection book\n"
     ]
    },
    {
     "data": {
      "text/plain": [
       "True"
      ]
     },
     "execution_count": 8,
     "metadata": {},
     "output_type": "execute_result"
    }
   ],
   "source": [
    "nltk.download('book')"
   ]
  },
  {
   "cell_type": "code",
   "execution_count": 9,
   "metadata": {},
   "outputs": [
    {
     "name": "stdout",
     "output_type": "stream",
     "text": [
      "*** Introductory Examples for the NLTK Book ***\n",
      "Loading text1, ..., text9 and sent1, ..., sent9\n",
      "Type the name of the text or sentence to view it.\n",
      "Type: 'texts()' or 'sents()' to list the materials.\n",
      "text1: Moby Dick by Herman Melville 1851\n",
      "text2: Sense and Sensibility by Jane Austen 1811\n",
      "text3: The Book of Genesis\n",
      "text4: Inaugural Address Corpus\n",
      "text5: Chat Corpus\n",
      "text6: Monty Python and the Holy Grail\n",
      "text7: Wall Street Journal\n",
      "text8: Personals Corpus\n",
      "text9: The Man Who Was Thursday by G . K . Chesterton 1908\n"
     ]
    },
    {
     "data": {
      "text/plain": [
       "['[',\n",
       " 'Moby',\n",
       " 'Dick',\n",
       " 'by',\n",
       " 'Herman',\n",
       " 'Melville',\n",
       " '1851',\n",
       " ']',\n",
       " 'ETYMOLOGY',\n",
       " '.']"
      ]
     },
     "execution_count": 9,
     "metadata": {},
     "output_type": "execute_result"
    }
   ],
   "source": [
    "# This line imports the different books, each as separate text. \n",
    "# Each text has been tokenised, so we also show the first 10 words \n",
    "# of the first book in the collection.\n",
    "from nltk.book import *\n",
    "text1[0:10]"
   ]
  },
  {
   "cell_type": "markdown",
   "metadata": {},
   "source": [
    "### Word statistics\n",
    "\n",
    "Open the text “Sense and Sensibility by Jane Austen 1811” from the NLTK book collection, and calculate the following statistics:\n",
    "\n",
    "- number of word tokens and types\n",
    "- lexical diversity, or type-to-token ratio."
   ]
  },
  {
   "cell_type": "code",
   "execution_count": 10,
   "metadata": {},
   "outputs": [
    {
     "name": "stdout",
     "output_type": "stream",
     "text": [
      "(141576, 6833, 0.04826383002768831)\n"
     ]
    }
   ],
   "source": [
    "#YOUR CODE HERE\n",
    "def stats(text):\n",
    "    tokens = len(text)\n",
    "    types = len(set(text))\n",
    "    div = types/tokens\n",
    "    return(tokens, types, div)\n",
    "    \n",
    "print(stats(text2))\n"
   ]
  },
  {
   "cell_type": "code",
   "execution_count": 11,
   "metadata": {},
   "outputs": [
    {
     "data": {
      "text/plain": [
       "<bound method Text.count of <Text: Sense and Sensibility by Jane Austen 1811>>"
      ]
     },
     "execution_count": 11,
     "metadata": {},
     "output_type": "execute_result"
    }
   ],
   "source": [
    "text2.count"
   ]
  },
  {
   "cell_type": "markdown",
   "metadata": {},
   "source": [
    "## 3) Frequency distributions\n",
    "\n",
    "Let us start by looking at the absolute freuency of some words in different books.\n",
    "In order to do that, you will have to use the 'FreqDist' function available in nltk.\n",
    "\n",
    "Build a frequency distribution of the words occurring in Sense and Sensibility.\n",
    "Then extract how often the word 'God' occurs in the novel."
   ]
  },
  {
   "cell_type": "code",
   "execution_count": 12,
   "metadata": {},
   "outputs": [
    {
     "data": {
      "text/plain": [
       "10"
      ]
     },
     "execution_count": 12,
     "metadata": {},
     "output_type": "execute_result"
    }
   ],
   "source": [
    "#YOUR CODE HERE\n",
    "fdist2 = FreqDist(text2)\n",
    "fdist2['God']"
   ]
  },
  {
   "cell_type": "markdown",
   "metadata": {},
   "source": [
    "Let us now compare with another word. How often does 'God' occur in Monty Python and the Holy Grail?"
   ]
  },
  {
   "cell_type": "code",
   "execution_count": 13,
   "metadata": {},
   "outputs": [
    {
     "data": {
      "text/plain": [
       "11"
      ]
     },
     "execution_count": 13,
     "metadata": {},
     "output_type": "execute_result"
    }
   ],
   "source": [
    "#YOUR CODE HERE\n",
    "fdist6 = FreqDist(text6)\n",
    "fdist6['God']"
   ]
  },
  {
   "cell_type": "markdown",
   "metadata": {},
   "source": [
    "### Question:\n",
    "\n",
    "Maybe absolute frequency in this case does not provide a good enough comparison. What about the relative frequency of the same word in the two texts? "
   ]
  },
  {
   "cell_type": "code",
   "execution_count": 14,
   "metadata": {},
   "outputs": [
    {
     "name": "stdout",
     "output_type": "stream",
     "text": [
      "10 141576 7.1e-05\n"
     ]
    }
   ],
   "source": [
    "#Relative frequency of \"God\" in Sense and Sensibility\n",
    "#YOUR CODE HERE\n",
    "\n",
    "god2 = fdist2['God']\n",
    "print(god2, len(text2), round(god2/len(text2),6))"
   ]
  },
  {
   "cell_type": "code",
   "execution_count": 15,
   "metadata": {},
   "outputs": [
    {
     "name": "stdout",
     "output_type": "stream",
     "text": [
      "11 16967 0.000648\n"
     ]
    }
   ],
   "source": [
    "#Relative frequency of \"God\" in Monty Python and the Holy Grail\n",
    "#YOUR CODE HERE\n",
    "god6 = fdist6['God']\n",
    "print(god6, len(text6), round(god6/len(text6),6))"
   ]
  },
  {
   "cell_type": "markdown",
   "metadata": {},
   "source": [
    "### Calculating and printing out absolute word frequency\n",
    "\n",
    "Print out the 50 most frequent words of Sense and Sensibility together with their frequency."
   ]
  },
  {
   "cell_type": "code",
   "execution_count": 16,
   "metadata": {},
   "outputs": [
    {
     "name": "stdout",
     "output_type": "stream",
     "text": [
      "(',', 9397)\n",
      "('to', 4063)\n",
      "('.', 3975)\n",
      "('the', 3861)\n",
      "('of', 3565)\n",
      "('and', 3350)\n",
      "('her', 2436)\n",
      "('a', 2043)\n",
      "('I', 2004)\n",
      "('in', 1904)\n",
      "('was', 1846)\n",
      "('it', 1568)\n",
      "('\"', 1506)\n",
      "(';', 1419)\n",
      "('she', 1333)\n",
      "('be', 1305)\n",
      "('that', 1297)\n",
      "('for', 1234)\n",
      "('not', 1212)\n",
      "('as', 1179)\n",
      "('you', 1037)\n",
      "('with', 971)\n",
      "('had', 969)\n",
      "('his', 941)\n",
      "('he', 895)\n",
      "(\"'\", 883)\n",
      "('have', 807)\n",
      "('at', 806)\n",
      "('by', 737)\n",
      "('is', 728)\n",
      "('.\"', 721)\n",
      "('s', 700)\n",
      "('Elinor', 684)\n",
      "('on', 676)\n",
      "('all', 642)\n",
      "('him', 633)\n",
      "('so', 617)\n",
      "('but', 597)\n",
      "('which', 592)\n",
      "('could', 568)\n",
      "('Marianne', 566)\n",
      "('my', 551)\n",
      "('Mrs', 530)\n",
      "('from', 527)\n",
      "('would', 507)\n",
      "('very', 492)\n",
      "('no', 488)\n",
      "('their', 463)\n",
      "('them', 462)\n",
      "('--', 461)\n"
     ]
    }
   ],
   "source": [
    "#YOUR CODE HERE\n",
    "for f in fdist2.most_common(50):\n",
    "    print (f)"
   ]
  },
  {
   "cell_type": "markdown",
   "metadata": {},
   "source": [
    "### Plotting cumulative frequency\n",
    "\n",
    "Create a plot of the cumulative frequency of the same words.\n",
    "\n",
    "##### Hint:\n",
    "\n",
    "If you add this line at the beginning of the cell below, the frequency distribution will look better.\n",
    "\n",
    "`fig,ax = plt.subplots(figsize=(20,10))`"
   ]
  },
  {
   "cell_type": "code",
   "execution_count": 17,
   "metadata": {},
   "outputs": [
    {
     "data": {
      "image/png": "[encoded data removed]",
      "text/plain": [
       "<Figure size 1440x720 with 1 Axes>"
      ]
     },
     "metadata": {
      "needs_background": "light"
     },
     "output_type": "display_data"
    }
   ],
   "source": [
    "#YOUR CODE HERE\n",
    "fig,ax = plt.subplots(figsize=(20,10))\n",
    "fdist2.plot(50, cumulative=True)"
   ]
  },
  {
   "cell_type": "markdown",
   "metadata": {},
   "source": [
    "## 4) Conditional frequency\n",
    "\n",
    "To work with conditional frequency, we will start by importing the Brown corpus from the NLTK corpus collection. We then print out the categories of the collection, which correspond to different genres."
   ]
  },
  {
   "cell_type": "code",
   "execution_count": 18,
   "metadata": {},
   "outputs": [
    {
     "data": {
      "text/plain": [
       "['adventure',\n",
       " 'belles_lettres',\n",
       " 'editorial',\n",
       " 'fiction',\n",
       " 'government',\n",
       " 'hobbies',\n",
       " 'humor',\n",
       " 'learned',\n",
       " 'lore',\n",
       " 'mystery',\n",
       " 'news',\n",
       " 'religion',\n",
       " 'reviews',\n",
       " 'romance',\n",
       " 'science_fiction']"
      ]
     },
     "execution_count": 18,
     "metadata": {},
     "output_type": "execute_result"
    }
   ],
   "source": [
    "from nltk.corpus import brown\n",
    "brown.categories()"
   ]
  },
  {
   "cell_type": "markdown",
   "metadata": {},
   "source": [
    "Just as a reminder, we create a frequency distribution for one of the genres using the FreqDist function and print out the absolute frequency of two target words."
   ]
  },
  {
   "cell_type": "code",
   "execution_count": 19,
   "metadata": {},
   "outputs": [
    {
     "name": "stdout",
     "output_type": "stream",
     "text": [
      "war: 27 government: 73 "
     ]
    }
   ],
   "source": [
    "news_text = brown.words(categories='news')\n",
    "fdist_news = nltk.FreqDist(w.lower() for w in news_text)\n",
    "targets = ['war','government']\n",
    "for t in targets:\n",
    "    print(t + ':', fdist_news[t], end=' ')"
   ]
  },
  {
   "cell_type": "markdown",
   "metadata": {},
   "source": [
    "Now your turn. Build conditional frequency distributions given two of the genres in the Brown corpus, and print out the conditional frequencies of a number of target words."
   ]
  },
  {
   "cell_type": "code",
   "execution_count": 20,
   "metadata": {},
   "outputs": [
    {
     "name": "stdout",
     "output_type": "stream",
     "text": [
      "               war government          I \n",
      "   news         20         52        179 \n",
      "fiction         24          4        511 \n"
     ]
    }
   ],
   "source": [
    "#YOUR CODE HERE\n",
    "genres = ['news', 'fiction']\n",
    "targets2 = ['war', 'government', 'I']\n",
    "cfd = nltk.ConditionalFreqDist(\n",
    "           (genre, word)\n",
    "           for genre in genres\n",
    "           for word in brown.words(categories=genre))\n",
    "cfd.tabulate(conditions=genres, samples=targets2)"
   ]
  },
  {
   "cell_type": "markdown",
   "metadata": {},
   "source": [
    "In this last exercise, write code to plot the frequency of two target words in the various genres of the Brown corpus. You can use the code provided here as a guide. https://www.nltk.org/book/ch02.html#fig-inaugural2"
   ]
  },
  {
   "cell_type": "code",
   "execution_count": 21,
   "metadata": {},
   "outputs": [
    {
     "name": "stdout",
     "output_type": "stream",
     "text": [
      "['adventure', 'belles_lettres', 'editorial', 'fiction', 'government', 'hobbies', 'humor', 'learned', 'lore', 'mystery', 'news', 'religion', 'reviews', 'romance', 'science_fiction']\n"
     ]
    },
    {
     "data": {
      "image/png": "[encoded data removed]",
      "text/plain": [
       "<Figure size 432x288 with 1 Axes>"
      ]
     },
     "metadata": {
      "needs_background": "light"
     },
     "output_type": "display_data"
    }
   ],
   "source": [
    "# YOUR CODE HERE\n",
    "print(brown.categories())\n",
    "cfd2 = nltk.ConditionalFreqDist(\n",
    "    (target, genre)\n",
    "    for genre in brown.categories()\n",
    "    for w in brown.words(categories=genre)\n",
    "    for target in ['you','war']\n",
    "    if w.lower() == target)\n",
    "cfd2.plot()"
   ]
  },
  {
   "cell_type": "code",
   "execution_count": null,
   "metadata": {},
   "outputs": [],
   "source": []
  }
 ],
 "metadata": {
  "kernelspec": {
   "display_name": "Python 3",
   "language": "python",
   "name": "python3"
  },
  "language_info": {
   "codemirror_mode": {
    "name": "ipython",
    "version": 3
   },
   "file_extension": ".py",
   "mimetype": "text/x-python",
   "name": "python",
   "nbconvert_exporter": "python",
   "pygments_lexer": "ipython3",
   "version": "3.7.1"
  }
 },
 "nbformat": 4,
 "nbformat_minor": 4
}
