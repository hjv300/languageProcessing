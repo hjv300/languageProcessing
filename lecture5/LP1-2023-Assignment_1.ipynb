{
 "cells": [
  {
   "cell_type": "markdown",
   "id": "c6706ccb",
   "metadata": {},
   "source": [
    "# Language Processing 1 (fall 2023)\n",
    "\n",
    "## Assignment 1: assigned on October 5, 2023  and  to be returned on October 19, 2023, 23:55.\n",
    "\n",
    "#### Your solutions will be evaluated in a holistic way. The percentages assigned to the exercises are provided to give you an idea of the time/effort it might take to solve them.  "
   ]
  },
  {
   "cell_type": "markdown",
   "id": "b4b76f7b",
   "metadata": {},
   "source": [
    "## Exercise 1 (35%):\n",
    "\n",
    " - 1.1 (5%) Download from https://www.gutenberg.org/cache/epub/41/pg41.txt  (the file's encoding is utf-8)   \"The Sleepy hollow\" and write a new file \"sleepy.txt\" which only contains the text following the line \"*** START OF THE PROJECT GUTENBERG EBOOK THE LEGEND OF SLEEPY HOLLOW \\*\\*\\*\" and preceding the line \"*** END OF THE PROJECT GUTENBERG EBOOK THE LEGEND OF SLEEPY HOLLOW ***\". \n",
    " "
   ]
  },
  {
   "cell_type": "code",
   "execution_count": 1,
   "id": "f479d362",
   "metadata": {},
   "outputs": [],
   "source": [
    "# Insert your code below:\n",
    "import requests as req\n",
    "#we create a variable to store the text from the url\n",
    "sleepytext = req.get('https://www.gutenberg.org/cache/epub/41/pg41.txt')\n",
    "sleepytext = sleepytext.text\n",
    "sleepytext = sleepytext.split('\\n')\n",
    "#we create a new file and write the text from the url into it\n",
    "with open('sleepy.txt', 'w') as f:\n",
    "    #we remove the first 23 lines and the last 352 lines, in order to satisfy the assignment requirements\n",
    "    linesSleepytext = sleepytext[23:-352] #found out limits of the text by looking at the raw text file\n",
    "    f.writelines(linesSleepytext)"
   ]
  },
  {
   "cell_type": "markdown",
   "id": "8f134f78",
   "metadata": {},
   "source": [
    " - 1.2 (15%) Write your own tokenizer and stemmer for English and apply them to  \"sleepy.txt\". You must use regular expressions and the results must be written to the files \"tok.txt\" and \"stem.txt\". Comment your programs."
   ]
  },
  {
   "cell_type": "code",
   "execution_count": 2,
   "id": "e7f741d6",
   "metadata": {},
   "outputs": [],
   "source": [
    "# insert your code below. TIP: write a function my_tokenizer(text,ud_text) and  a function \n",
    "# my_stemmer(text,ud_text) and then call the former with \"sleepy.txt\" and the latter with \"tok.txt\".\n",
    "import re\n",
    "import requests\n",
    "def my_tokenizer (text):\n",
    "    #we iterate through the text\n",
    "    words = text.read().split()\n",
    "    \n",
    "    return words\n",
    "\n",
    "def my_stemmer(text):\n",
    "    text = text.read()\n",
    "    word_stems = []\n",
    "    patterns = [\n",
    "        r'ed$', # Past tense\n",
    "        r'ing$', # Present participle\n",
    "        r'es$', # 3rd person singular\n",
    "        r's$', # Plural\n",
    "    ]\n",
    "    #we iterate over the patterns\n",
    "    for pattern in patterns:\n",
    "        #we iterate through the text with the pattern from the loop before\n",
    "        for word in text.split():\n",
    "            #if the word matches the pattern we return the stem form\n",
    "            if re.search(pattern, word):\n",
    "                word_stems.append(re.sub(pattern, '', word))\n",
    "    return word_stems\n",
    "#we create both of the files required for the exercise \n",
    "with open('tok.txt', 'w', encoding='utf-8') as f:\n",
    "    with open('sleepy.txt', 'r') as sleepytext:\n",
    "        #we pass the function the sleepy.txt and write the output to the new file\n",
    "        f.write(str(my_tokenizer(sleepytext)))\n",
    "with open('stem.txt', 'w', encoding='utf-8') as f:\n",
    "    with open('sleepy.txt', 'r') as sleepytext:\n",
    "        #we pass the function the sleepy.txt and write the output to the new file\n",
    "        f.write(str(my_stemmer(sleepytext)))"
   ]
  },
  {
   "cell_type": "markdown",
   "id": "6605076e",
   "metadata": {},
   "source": [
    " -  1.3 (5%) Run on sleepy.txt the  NLTK word-tokenizer. Describe shortly the differences between the results produced by your tokenizer and those by the NLTK word-tokenize.\n",
    "Add your description below:"
   ]
  },
  {
   "cell_type": "code",
   "execution_count": 3,
   "id": "1eca93e5",
   "metadata": {},
   "outputs": [],
   "source": [
    "import nltk\n",
    "\n",
    "with open('sleepy.txt', 'r') as text:\n",
    "    tokenized_text = my_tokenizer(text)\n",
    "with open('sleepy.txt', 'r') as f:\n",
    "    text = f.read()\n",
    "    tokenized_sentences = nltk.sent_tokenize(text)\n",
    "\n",
    "    tokenized_words = []\n",
    "    for sentence in tokenized_sentences:\n",
    "        words = nltk.word_tokenize(sentence)\n",
    "        tokenized_words.extend(words)"
   ]
  },
  {
   "cell_type": "code",
   "execution_count": 4,
   "id": "6db54b18",
   "metadata": {},
   "outputs": [],
   "source": [
    "# add your code hereunder:\n",
    "from nltk.stem import LancasterStemmer \n",
    "import nltk.tokenize\n",
    "stemmer = LancasterStemmer()\n",
    "with open('sleepy.txt', 'r') as f:\n",
    "    text = f.read()\n",
    "    tokenized_sentences = nltk.sent_tokenize(text)\n",
    "\n",
    "    tokenized_words = []\n",
    "    for sentence in tokenized_sentences:\n",
    "        words = nltk.word_tokenize(sentence)\n",
    "        tokenized_words.extend(words)\n",
    "    stemmed_words = [stemmer.stem(word) for word in tokenized_words]\n",
    "with open('LanStemSleepy.txt', 'w', encoding='utf-8') as f:\n",
    "    f.write(str(stemmed_words))"
   ]
  },
  {
   "cell_type": "markdown",
   "id": "455ba322",
   "metadata": {},
   "source": [
    " - 1.4b Describe shortly the differences between the results produced by your stemmer on sleepy.txt and those returned by the NLTK  Lancaster stemmer applied to the same text. Add your description below:"
   ]
  },
  {
   "cell_type": "markdown",
   "id": "9e0d254f",
   "metadata": {},
   "source": [
    "Comment: \n",
    "- Clearly the difference is huge, the Lancaster Stemmer has a vast and wide consideration for several prefixes and suffixes. \n",
    "- If compared to mine which has 4 patterns, it is a bit overwhelming, if taken in account together with the nltk tokenizer the results are excellent, while mine does work but it is no where near to nltk's power."
   ]
  },
  {
   "cell_type": "markdown",
   "id": "e64f3d16",
   "metadata": {},
   "source": [
    "## Exercise 2 (15%): \n",
    "\n",
    " - Normalize  and PoS-tag the text  \"sleepy.txt\" with the NLTK Penn PoS tagger and the Universal Dependency PoS tagger (5%). Explain the differences between the two tagsets and in which cases you think it would be best to use the Penn PoS tagger and in which cases the universal Dependency one (10%). "
   ]
  },
  {
   "cell_type": "code",
   "execution_count": 5,
   "id": "476e24d4",
   "metadata": {},
   "outputs": [],
   "source": [
    "# insert and run your code calling the two pos-tags, below.\n",
    "import nltk\n",
    "from nltk import pos_tag\n",
    "#we open, read the file, and tokenize it.\n",
    "with open('sleepy.txt', 'r', encoding='utf-8') as f:\n",
    "    text = f.read()\n",
    "sentences = nltk.sent_tokenize(text)\n",
    "tokenized_sentences = [nltk.word_tokenize(sentence) for sentence in sentences]\n",
    "#we invoke the pos_tag with the two tagsets.\n",
    "penn_pos_tagged_sentences = [pos_tag(sentence) for sentence in tokenized_sentences] \n",
    "universal_pos_tagged_sentences = [pos_tag(sentence, tagset = 'universal') for sentence in tokenized_sentences]\n",
    "#write the tags to the required files.\n",
    "with open('penn_pos_tagged_sentences.txt', 'w', encoding='utf-8') as f:\n",
    "    f.write(str(penn_pos_tagged_sentences))\n",
    "with open('universal_pos_tagged_sentences.txt', 'w', encoding='utf-8') as f:\n",
    "    f.write(str(universal_pos_tagged_sentences))"
   ]
  },
  {
   "cell_type": "markdown",
   "id": "188d27ec",
   "metadata": {},
   "source": [
    " - Insert your explanation about the differences between the two tagsets and your thoughts about their use, below:"
   ]
  },
  {
   "cell_type": "markdown",
   "id": "ad1c775e",
   "metadata": {},
   "source": [
    "EXPLANATION:\n",
    "- The main difference:\n",
    "    - The penn pos tagger is very good if fine-grained linguistic analysis is needed when working with the English language.\n",
    "    - The universal pos tagger is very good if cross-linguistic analysis is being done.\n",
    "- So as a summary, I believe its important to be conscious about the analysis we have at hand."
   ]
  },
  {
   "cell_type": "markdown",
   "id": "58e592fc",
   "metadata": {},
   "source": [
    "## Exercise 3 (15%):\n",
    "\n",
    " - 3.1 (5%) Calculate, and print out: a)  the absolute word frequency of the 20 most frequent words in \"sleepy.txt\", b) and their relative frequency. c) Plot the cumulative frequency of the 20 words."
   ]
  },
  {
   "cell_type": "code",
   "execution_count": 6,
   "id": "bc0eb7ad",
   "metadata": {},
   "outputs": [
    {
     "name": "stdout",
     "output_type": "stream",
     "text": [
      "20 Most Frequent Words:\n",
      ",: Absolute Frequency: 1069, Relative Frequency: 0.0765\n",
      "the: Absolute Frequency: 867, Relative Frequency: 0.0621\n",
      "of: Absolute Frequency: 597, Relative Frequency: 0.0427\n",
      "and: Absolute Frequency: 507, Relative Frequency: 0.0363\n",
      "a: Absolute Frequency: 351, Relative Frequency: 0.0251\n",
      ".: Absolute Frequency: 318, Relative Frequency: 0.0228\n",
      "his: Absolute Frequency: 245, Relative Frequency: 0.0175\n",
      "to: Absolute Frequency: 242, Relative Frequency: 0.0173\n",
      "in: Absolute Frequency: 234, Relative Frequency: 0.0168\n",
      "was: Absolute Frequency: 202, Relative Frequency: 0.0145\n",
      ";: Absolute Frequency: 174, Relative Frequency: 0.0125\n",
      "he: Absolute Frequency: 153, Relative Frequency: 0.0110\n",
      "with: Absolute Frequency: 143, Relative Frequency: 0.0102\n",
      "that: Absolute Frequency: 115, Relative Frequency: 0.0082\n",
      "by: Absolute Frequency: 88, Relative Frequency: 0.0063\n",
      "had: Absolute Frequency: 84, Relative Frequency: 0.0060\n",
      "it: Absolute Frequency: 83, Relative Frequency: 0.0059\n",
      "on: Absolute Frequency: 83, Relative Frequency: 0.0059\n",
      "at: Absolute Frequency: 81, Relative Frequency: 0.0058\n",
      "as: Absolute Frequency: 76, Relative Frequency: 0.0054\n"
     ]
    },
    {
     "data": {
      "image/png": "[encoded data removed]",
      "text/plain": [
       "<Figure size 1000x600 with 1 Axes>"
      ]
     },
     "metadata": {},
     "output_type": "display_data"
    }
   ],
   "source": [
    "#insert your code below\n",
    "import nltk\n",
    "from nltk.probability import FreqDist\n",
    "import matplotlib.pyplot as plt\n",
    "\n",
    "with open('sleepy.txt', 'r') as f:\n",
    "    text = f.read()\n",
    "    #we tokenize and calculate both absolute frequency and the total amount of words\n",
    "    word_tokens = nltk.word_tokenize(text)\n",
    "    fdist = FreqDist(word_tokens)\n",
    "    total_words = len(word_tokens)\n",
    "    #we calculate the relative frequency, and the top 20 most frequent words in absolute frequency\n",
    "    relative_frequency = {word: count / total_words for word, count in fdist.items()}\n",
    "    top_words = fdist.most_common(20)\n",
    "    print(\"20 Most Frequent Words:\")\n",
    "    #we create a for loop to print all the information we gathered\n",
    "    for word, freq in top_words:\n",
    "        print(f\"{word}: Absolute Frequency: {freq}, Relative Frequency: {freq / total_words:.4f}\")\n",
    "    #we calculate the cumulative frequency\n",
    "    cumulative_frequency = [count for word, count in top_words]\n",
    "    cumulative_frequency = [sum(cumulative_frequency[:i+1]) for i in range(len(cumulative_frequency))]\n",
    "    #we create and plot the cummulative frequency\n",
    "    plt.figure(figsize = (10, 6))\n",
    "    plt.plot(range(1, len(cumulative_frequency) + 1), cumulative_frequency, marker = 'o', linestyle = '-')\n",
    "    plt.xlabel('Rank')\n",
    "    plt.ylabel('Cumulative Frequency')\n",
    "    plt.title('Cumulative Frequency of the 20 Most Frequent Words')\n",
    "    plt.grid(True)\n",
    "    plt.show()"
   ]
  },
  {
   "cell_type": "markdown",
   "id": "3455c8fa",
   "metadata": {},
   "source": [
    "\n",
    " -  3.2 (10%) What do the three different measures tell us? Insert your answer below:\n"
   ]
  },
  {
   "cell_type": "markdown",
   "id": "538df127",
   "metadata": {},
   "source": [
    "EXPLANATION:\n",
    "- Absolute frequency tells the most repeating elements in the text.\n",
    "- Relative frequency tells the percentage of ocurrence over the total size of the sample.\n",
    "- Cummulative frequency (Cf) shows the behaviour of Zipf's law where the most frequent element has the lowest Cf."
   ]
  },
  {
   "cell_type": "markdown",
   "id": "5aa88719",
   "metadata": {},
   "source": [
    "## Exercise 4 (15%):\n",
    "\n",
    " - Find and print the lemmas of sleepy.txt after having normalised the text. Write the results in the file sleepy-lemmas.txt so that each word is separated by its lemma by a backsash, e.g. This/this is/be an/a example/example."
   ]
  },
  {
   "cell_type": "code",
   "execution_count": 7,
   "id": "519303c1",
   "metadata": {},
   "outputs": [],
   "source": [
    "#insert your code below\n",
    "import nltk\n",
    "from nltk.stem import WordNetLemmatizer\n",
    "from nltk.corpus import wordnet\n",
    "#we create a instance of the lemmatizer\n",
    "wnl = WordNetLemmatizer()\n",
    "#we create a function to translate penn pos tags to wordnet styled pos tags\n",
    "def get_wordnet_pos(tag):\n",
    "    if tag.startswith('J'):\n",
    "        return wordnet.ADJ\n",
    "    elif tag.startswith('V'):\n",
    "        return wordnet.VERB\n",
    "    elif tag.startswith('N'):\n",
    "        return wordnet.NOUN\n",
    "    elif tag.startswith('R'):\n",
    "        return wordnet.ADV\n",
    "    else:\n",
    "        #if an unknown tag is found it will be translated as NOUN tag -> 'n'\n",
    "        return wordnet.NOUN\n",
    "#we open sleepy.txt and create the output file sleepy-lemmas.txt\n",
    "with open('sleepy.txt', 'r') as sleepytxt:\n",
    "    with open('sleepy-lemmas.txt', 'w', encoding='utf-8') as sleepylemmas:\n",
    "        text = sleepytxt.read()\n",
    "        #we tokenize the text\n",
    "        text_word_tokens = nltk.word_tokenize(text)\n",
    "        #we penn pos tag it\n",
    "        pos_tags = nltk.pos_tag(text_word_tokens)\n",
    "        \n",
    "        for token, pos_tag in pos_tags:\n",
    "            #we translate the penn pos tags\n",
    "            wordnet_pos = get_wordnet_pos(pos_tag)\n",
    "            #we lemmatize using the wordnet tags\n",
    "            lemma = wnl.lemmatize(token, wordnet_pos)\n",
    "            #we write the lemmas to the txt file adding the backslash and a space to make it visually clear\n",
    "            sleepylemmas.write(token + '/' + lemma.lower() + ' ')\n"
   ]
  },
  {
   "cell_type": "markdown",
   "id": "7e5a7b7c",
   "metadata": {},
   "source": [
    "## Exercise 5 (20%)\n",
    "\n",
    " -  5.1 (15%) Extend the pattern based tagger from the NLTK book and lesson 4 exercise to cover all pronouns, punctuation signs (tag \".\", coordinating conjunctions (tag \"CC\"), modal auxiliary (tag \"MD\") and who-words (tag \"WH\"). Run the tagger om sleepy.txt and write the results in a file \"my_sleepy-tagget.txt.  \n"
   ]
  },
  {
   "cell_type": "code",
   "execution_count": 8,
   "id": "3c1f13a9",
   "metadata": {},
   "outputs": [],
   "source": [
    "#insert your code here\n",
    "import nltk\n",
    "#we open the sleepy file\n",
    "with open('sleepy.txt', 'r') as sleepytxt:\n",
    "    text = sleepytxt.read()\n",
    "    #we tokenize the text\n",
    "    tokens = nltk.word_tokenize(text)\n",
    "#we expand the pattern based regex tagger to search for the elements required\n",
    "patterns = [\n",
    "    (r'.*ing$', 'VBG'),  # gerunds\n",
    "    (r'.*ed$', 'VBD'),  # simple past\n",
    "    (r'.*es$', 'VBZ'),  # 3rd singular present\n",
    "    (r'.*ould$', 'MD'),  # modals\n",
    "    (r'.*\\'s$', 'NN$'),  # possessive nouns\n",
    "    (r'.*s$', 'NNS'),  # plural nouns\n",
    "    (r'^-?[0-9]+(\\.[0-9]+)?$', 'CD'),  # cardinal numbers\n",
    "    (r'[.,;:]', 'PS'),  # punctuation\n",
    "    (r'^(?:[Mm]e|[Yy]ou|[Hh]im|[Hh]er|[Ii]t|[Uu]s|[Tt]hem)$', 'PRP'),  # object pronoun\n",
    "    (r'^(?:[Mm]yself|[Yy]ourself|[Hh]imself|[Hh]erself|[Ii]tself|[Oo]urselves|[Tt]hemselves)$', 'PRP'),  # reflexive pronouns\n",
    "    (r'^(?:[Ii]|[Yy]ou|[Hh]e|[Ss]he|[Ii]t|[Ww]e|[Tt]hey)$', 'PRP'),  # personal pronouns\n",
    "    (r'^(?:[Mm]ine|[Yy]ours|[Hh]is|[Hh]ers|[Ii]ts|[Oo]urs|[Tt]heirs)$', 'PRP'),  # possessive pronoun\n",
    "    (r'^(?:[Ww]hat|[Ww]here|[Ww]hen|[Ww]ho|[Ww]hom|[Ww]hich|[Ww]hy|[Ww]hose)$', 'WH'),  # who-words\n",
    "    (r'^(and|but|or|for|nor|so|yet)$', 'CC'),  # coordinating conjunctions\n",
    "    (r'^(?:[Cc]an|[Cc]ould|[Mm]ay|[Mm]ight|[Mm]ust|[Ss]hall|[Ss]hould|[Ww]ill|[Ww]ould)$', 'MD'), #Modal Auxiliary\n",
    "    (r'.*', 'NN'),  # nouns (default)\n",
    "]\n",
    "#we create an instance of the nltk regex pattern with the patterns we created\n",
    "regexp_tagger = nltk.RegexpTagger(patterns)\n",
    "#we create the output file my-sleepy-tagged.txt\n",
    "with open('my-sleepy-tagged.txt', 'w') as sleepytagged:\n",
    "    #we create a for loop to iterate over the tuples\n",
    "    for token in regexp_tagger.tag(tokens):\n",
    "        #we write the information of the tuples as strings and a newline to the file\n",
    "        sleepytagged.write(str(token) + '\\n')\n"
   ]
  },
  {
   "cell_type": "markdown",
   "id": "834064fb",
   "metadata": {},
   "source": [
    " -  5.2  (5%) Look at the obtained results and explain which word types are still not tagged correctly. Insert your explanation below:"
   ]
  },
  {
   "cell_type": "markdown",
   "id": "0ad8a735",
   "metadata": {},
   "source": [
    "EXPLANATION\n",
    "- Even though I expanded severely the regex pattern search, it will still mistag certain words because it lacks the semantics to tag correctly content words such as 'Housewives' or 'Castles' which are tagged as a 'VBZ'.\n",
    "- The conclusion I can draw from this is that the regex tagger can be useful to process text if the person working with it has in account the fact that content words will be mistagged at times."
   ]
  }
 ],
 "metadata": {
  "kernelspec": {
   "display_name": "Python 3 (ipykernel)",
   "language": "python",
   "name": "python3"
  },
  "language_info": {
   "codemirror_mode": {
    "name": "ipython",
    "version": 3
   },
   "file_extension": ".py",
   "mimetype": "text/x-python",
   "name": "python",
   "nbconvert_exporter": "python",
   "pygments_lexer": "ipython3",
   "version": "3.11.5"
  }
 },
 "nbformat": 4,
 "nbformat_minor": 5
}
