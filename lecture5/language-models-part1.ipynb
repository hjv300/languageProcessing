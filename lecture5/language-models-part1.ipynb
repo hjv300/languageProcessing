{
 "cells": [
  {
   "cell_type": "code",
   "execution_count": 2,
   "metadata": {},
   "outputs": [],
   "source": [
    "import nltk\n",
    "from nltk.corpus import gutenberg"
   ]
  },
  {
   "cell_type": "markdown",
   "metadata": {},
   "source": [
    "### Language modeling exercises\n",
    "\n",
    "Go through the documentation of NLTK and check how bigrams, trigrams or n-grams calculators work."
   ]
  },
  {
   "cell_type": "code",
   "execution_count": 3,
   "metadata": {},
   "outputs": [
    {
     "name": "stdout",
     "output_type": "stream",
     "text": [
      "Help on function bigrams in module nltk.util:\n",
      "\n",
      "bigrams(sequence, **kwargs)\n",
      "    Return the bigrams generated from a sequence of items, as an iterator.\n",
      "    For example:\n",
      "    \n",
      "        >>> from nltk.util import bigrams\n",
      "        >>> list(bigrams([1,2,3,4,5]))\n",
      "        [(1, 2), (2, 3), (3, 4), (4, 5)]\n",
      "    \n",
      "    Use bigrams for a list version of this function.\n",
      "    \n",
      "    :param sequence: the source data to be converted into bigrams\n",
      "    :type sequence: sequence or iter\n",
      "    :rtype: iter(tuple)\n",
      "\n"
     ]
    }
   ],
   "source": [
    "help(nltk.bigrams)"
   ]
  },
  {
   "cell_type": "markdown",
   "metadata": {},
   "source": [
    "Now let's take the example from the slides, and let's work with it."
   ]
  },
  {
   "cell_type": "code",
   "execution_count": 1,
   "metadata": {
    "scrolled": true
   },
   "outputs": [
    {
     "data": {
      "text/plain": [
       "'<s> I am Sam </s>\\n<s> Sam I am </s>\\n<s> I like eggs </s>\\n<s> I do not like green eggs and ham </s>'"
      ]
     },
     "execution_count": 1,
     "metadata": {},
     "output_type": "execute_result"
    }
   ],
   "source": [
    "text1 = \"\"\"<s> I am Sam </s>\n",
    "<s> Sam I am </s>\n",
    "<s> I like eggs </s>\n",
    "<s> I do not like green eggs and ham </s>\"\"\"\n",
    "text1"
   ]
  },
  {
   "cell_type": "markdown",
   "metadata": {},
   "source": [
    "We split the corpus into individual words and then calculate the vocabulary."
   ]
  },
  {
   "cell_type": "code",
   "execution_count": 4,
   "metadata": {},
   "outputs": [
    {
     "data": {
      "text/plain": [
       "['<s>',\n",
       " 'I',\n",
       " 'am',\n",
       " 'Sam',\n",
       " '</s>',\n",
       " '<s>',\n",
       " 'Sam',\n",
       " 'I',\n",
       " 'am',\n",
       " '</s>',\n",
       " '<s>',\n",
       " 'I',\n",
       " 'like',\n",
       " 'eggs',\n",
       " '</s>',\n",
       " '<s>',\n",
       " 'I',\n",
       " 'do',\n",
       " 'not',\n",
       " 'like',\n",
       " 'green',\n",
       " 'eggs',\n",
       " 'and',\n",
       " 'ham',\n",
       " '</s>']"
      ]
     },
     "execution_count": 4,
     "metadata": {},
     "output_type": "execute_result"
    }
   ],
   "source": [
    "words=text1.split()\n",
    "words"
   ]
  },
  {
   "cell_type": "code",
   "execution_count": 5,
   "metadata": {},
   "outputs": [
    {
     "data": {
      "text/plain": [
       "12"
      ]
     },
     "execution_count": 5,
     "metadata": {},
     "output_type": "execute_result"
    }
   ],
   "source": [
    "len(set(words))"
   ]
  },
  {
   "cell_type": "markdown",
   "metadata": {},
   "source": [
    "Now create a list of bigrams from our corpus and print it out."
   ]
  },
  {
   "cell_type": "code",
   "execution_count": 6,
   "metadata": {},
   "outputs": [
    {
     "data": {
      "text/plain": [
       "[('<s>', 'I'),\n",
       " ('I', 'am'),\n",
       " ('am', 'Sam'),\n",
       " ('Sam', '</s>'),\n",
       " ('</s>', '<s>'),\n",
       " ('<s>', 'Sam'),\n",
       " ('Sam', 'I'),\n",
       " ('I', 'am'),\n",
       " ('am', '</s>'),\n",
       " ('</s>', '<s>'),\n",
       " ('<s>', 'I'),\n",
       " ('I', 'like'),\n",
       " ('like', 'eggs'),\n",
       " ('eggs', '</s>'),\n",
       " ('</s>', '<s>'),\n",
       " ('<s>', 'I'),\n",
       " ('I', 'do'),\n",
       " ('do', 'not'),\n",
       " ('not', 'like'),\n",
       " ('like', 'green'),\n",
       " ('green', 'eggs'),\n",
       " ('eggs', 'and'),\n",
       " ('and', 'ham'),\n",
       " ('ham', '</s>')]"
      ]
     },
     "execution_count": 6,
     "metadata": {},
     "output_type": "execute_result"
    }
   ],
   "source": [
    "# Your code here:\n",
    "list(nltk.bigrams(words))\n"
   ]
  },
  {
   "cell_type": "markdown",
   "metadata": {},
   "source": [
    "### Conditional Frequencies\n",
    "\n",
    "Now we want to see which are the common words that come after another word. To do that, we need to create a conditional freqyency list over bigrams by combining `nltk.bigrams` and `nltk.ConditionalFreqDist` to do it.\n",
    "\n",
    "Please check the documentation, and see below how we get the conditional frequencies for the words in 'text1')."
   ]
  },
  {
   "cell_type": "code",
   "execution_count": 8,
   "metadata": {},
   "outputs": [
    {
     "name": "stdout",
     "output_type": "stream",
     "text": [
      "Help on class ConditionalFreqDist in module nltk.probability:\n",
      "\n",
      "class ConditionalFreqDist(collections.defaultdict)\n",
      " |  ConditionalFreqDist(cond_samples=None)\n",
      " |  \n",
      " |  A collection of frequency distributions for a single experiment\n",
      " |  run under different conditions.  Conditional frequency\n",
      " |  distributions are used to record the number of times each sample\n",
      " |  occurred, given the condition under which the experiment was run.\n",
      " |  For example, a conditional frequency distribution could be used to\n",
      " |  record the frequency of each word (type) in a document, given its\n",
      " |  length.  Formally, a conditional frequency distribution can be\n",
      " |  defined as a function that maps from each condition to the\n",
      " |  FreqDist for the experiment under that condition.\n",
      " |  \n",
      " |  Conditional frequency distributions are typically constructed by\n",
      " |  repeatedly running an experiment under a variety of conditions,\n",
      " |  and incrementing the sample outcome counts for the appropriate\n",
      " |  conditions.  For example, the following code will produce a\n",
      " |  conditional frequency distribution that encodes how often each\n",
      " |  word type occurs, given the length of that word type:\n",
      " |  \n",
      " |      >>> from nltk.probability import ConditionalFreqDist\n",
      " |      >>> from nltk.tokenize import word_tokenize\n",
      " |      >>> sent = \"the the the dog dog some other words that we do not care about\"\n",
      " |      >>> cfdist = ConditionalFreqDist()\n",
      " |      >>> for word in word_tokenize(sent):\n",
      " |      ...     condition = len(word)\n",
      " |      ...     cfdist[condition][word] += 1\n",
      " |  \n",
      " |  An equivalent way to do this is with the initializer:\n",
      " |  \n",
      " |      >>> cfdist = ConditionalFreqDist((len(word), word) for word in word_tokenize(sent))\n",
      " |  \n",
      " |  The frequency distribution for each condition is accessed using\n",
      " |  the indexing operator:\n",
      " |  \n",
      " |      >>> cfdist[3]\n",
      " |      FreqDist({'the': 3, 'dog': 2, 'not': 1})\n",
      " |      >>> cfdist[3].freq('the')\n",
      " |      0.5\n",
      " |      >>> cfdist[3]['dog']\n",
      " |      2\n",
      " |  \n",
      " |  When the indexing operator is used to access the frequency\n",
      " |  distribution for a condition that has not been accessed before,\n",
      " |  ``ConditionalFreqDist`` creates a new empty FreqDist for that\n",
      " |  condition.\n",
      " |  \n",
      " |  Method resolution order:\n",
      " |      ConditionalFreqDist\n",
      " |      collections.defaultdict\n",
      " |      builtins.dict\n",
      " |      builtins.object\n",
      " |  \n",
      " |  Methods defined here:\n",
      " |  \n",
      " |  N(self)\n",
      " |      Return the total number of sample outcomes that have been\n",
      " |      recorded by this ``ConditionalFreqDist``.\n",
      " |      \n",
      " |      :rtype: int\n",
      " |  \n",
      " |  __add__(self, other)\n",
      " |      Add counts from two ConditionalFreqDists.\n",
      " |  \n",
      " |  __and__(self, other)\n",
      " |      Intersection is the minimum of corresponding counts.\n",
      " |  \n",
      " |  __ge__(self, other)\n",
      " |      Return self>=value.\n",
      " |  \n",
      " |  __gt__(self, other)\n",
      " |      Return self>value.\n",
      " |  \n",
      " |  __init__(self, cond_samples=None)\n",
      " |      Construct a new empty conditional frequency distribution.  In\n",
      " |      particular, the count for every sample, under every condition,\n",
      " |      is zero.\n",
      " |      \n",
      " |      :param cond_samples: The samples to initialize the conditional\n",
      " |          frequency distribution with\n",
      " |      :type cond_samples: Sequence of (condition, sample) tuples\n",
      " |  \n",
      " |  __le__(self, other)\n",
      " |      Return self<=value.\n",
      " |  \n",
      " |  __lt__(self, other)\n",
      " |      Return self<value.\n",
      " |  \n",
      " |  __or__(self, other)\n",
      " |      Union is the maximum of value in either of the input counters.\n",
      " |  \n",
      " |  __reduce__(self)\n",
      " |      Return state information for pickling.\n",
      " |  \n",
      " |  __repr__(self)\n",
      " |      Return a string representation of this ``ConditionalFreqDist``.\n",
      " |      \n",
      " |      :rtype: str\n",
      " |  \n",
      " |  __sub__(self, other)\n",
      " |      Subtract count, but keep only results with positive counts.\n",
      " |  \n",
      " |  __unicode__ = __str__(self, /)\n",
      " |      Return str(self).\n",
      " |  \n",
      " |  conditions(self)\n",
      " |      Return a list of the conditions that have been accessed for\n",
      " |      this ``ConditionalFreqDist``.  Use the indexing operator to\n",
      " |      access the frequency distribution for a given condition.\n",
      " |      Note that the frequency distributions for some conditions\n",
      " |      may contain zero sample outcomes.\n",
      " |      \n",
      " |      :rtype: list\n",
      " |  \n",
      " |  plot(self, *args, **kwargs)\n",
      " |      Plot the given samples from the conditional frequency distribution.\n",
      " |      For a cumulative plot, specify cumulative=True.\n",
      " |      (Requires Matplotlib to be installed.)\n",
      " |      \n",
      " |      :param samples: The samples to plot\n",
      " |      :type samples: list\n",
      " |      :param title: The title for the graph\n",
      " |      :type title: str\n",
      " |      :param conditions: The conditions to plot (default is all)\n",
      " |      :type conditions: list\n",
      " |  \n",
      " |  tabulate(self, *args, **kwargs)\n",
      " |      Tabulate the given samples from the conditional frequency distribution.\n",
      " |      \n",
      " |      :param samples: The samples to plot\n",
      " |      :type samples: list\n",
      " |      :param conditions: The conditions to plot (default is all)\n",
      " |      :type conditions: list\n",
      " |      :param cumulative: A flag to specify whether the freqs are cumulative (default = False)\n",
      " |      :type title: bool\n",
      " |  \n",
      " |  unicode_repr = __repr__(self)\n",
      " |  \n",
      " |  ----------------------------------------------------------------------\n",
      " |  Data descriptors defined here:\n",
      " |  \n",
      " |  __dict__\n",
      " |      dictionary for instance variables (if defined)\n",
      " |  \n",
      " |  __weakref__\n",
      " |      list of weak references to the object (if defined)\n",
      " |  \n",
      " |  ----------------------------------------------------------------------\n",
      " |  Methods inherited from collections.defaultdict:\n",
      " |  \n",
      " |  __copy__(...)\n",
      " |      D.copy() -> a shallow copy of D.\n",
      " |  \n",
      " |  __getattribute__(self, name, /)\n",
      " |      Return getattr(self, name).\n",
      " |  \n",
      " |  __missing__(...)\n",
      " |      __missing__(key) # Called by __getitem__ for missing key; pseudo-code:\n",
      " |      if self.default_factory is None: raise KeyError((key,))\n",
      " |      self[key] = value = self.default_factory()\n",
      " |      return value\n",
      " |  \n",
      " |  copy(...)\n",
      " |      D.copy() -> a shallow copy of D.\n",
      " |  \n",
      " |  ----------------------------------------------------------------------\n",
      " |  Data descriptors inherited from collections.defaultdict:\n",
      " |  \n",
      " |  default_factory\n",
      " |      Factory for default value called by __missing__().\n",
      " |  \n",
      " |  ----------------------------------------------------------------------\n",
      " |  Methods inherited from builtins.dict:\n",
      " |  \n",
      " |  __contains__(self, key, /)\n",
      " |      True if the dictionary has the specified key, else False.\n",
      " |  \n",
      " |  __delitem__(self, key, /)\n",
      " |      Delete self[key].\n",
      " |  \n",
      " |  __eq__(self, value, /)\n",
      " |      Return self==value.\n",
      " |  \n",
      " |  __getitem__(...)\n",
      " |      x.__getitem__(y) <==> x[y]\n",
      " |  \n",
      " |  __iter__(self, /)\n",
      " |      Implement iter(self).\n",
      " |  \n",
      " |  __len__(self, /)\n",
      " |      Return len(self).\n",
      " |  \n",
      " |  __ne__(self, value, /)\n",
      " |      Return self!=value.\n",
      " |  \n",
      " |  __setitem__(self, key, value, /)\n",
      " |      Set self[key] to value.\n",
      " |  \n",
      " |  __sizeof__(...)\n",
      " |      D.__sizeof__() -> size of D in memory, in bytes\n",
      " |  \n",
      " |  clear(...)\n",
      " |      D.clear() -> None.  Remove all items from D.\n",
      " |  \n",
      " |  get(self, key, default=None, /)\n",
      " |      Return the value for key if key is in the dictionary, else default.\n",
      " |  \n",
      " |  items(...)\n",
      " |      D.items() -> a set-like object providing a view on D's items\n",
      " |  \n",
      " |  keys(...)\n",
      " |      D.keys() -> a set-like object providing a view on D's keys\n",
      " |  \n",
      " |  pop(...)\n",
      " |      D.pop(k[,d]) -> v, remove specified key and return the corresponding value.\n",
      " |      If key is not found, d is returned if given, otherwise KeyError is raised\n",
      " |  \n",
      " |  popitem(...)\n",
      " |      D.popitem() -> (k, v), remove and return some (key, value) pair as a\n",
      " |      2-tuple; but raise KeyError if D is empty.\n",
      " |  \n",
      " |  setdefault(self, key, default=None, /)\n",
      " |      Insert key with a value of default if key is not in the dictionary.\n",
      " |      \n",
      " |      Return the value for key if key is in the dictionary, else default.\n",
      " |  \n",
      " |  update(...)\n",
      " |      D.update([E, ]**F) -> None.  Update D from dict/iterable E and F.\n",
      " |      If E is present and has a .keys() method, then does:  for k in E: D[k] = E[k]\n",
      " |      If E is present and lacks a .keys() method, then does:  for k, v in E: D[k] = v\n",
      " |      In either case, this is followed by: for k in F:  D[k] = F[k]\n",
      " |  \n",
      " |  values(...)\n",
      " |      D.values() -> an object providing a view on D's values\n",
      " |  \n",
      " |  ----------------------------------------------------------------------\n",
      " |  Class methods inherited from builtins.dict:\n",
      " |  \n",
      " |  fromkeys(iterable, value=None, /) from builtins.type\n",
      " |      Create a new dictionary with keys from iterable and values set to value.\n",
      " |  \n",
      " |  ----------------------------------------------------------------------\n",
      " |  Static methods inherited from builtins.dict:\n",
      " |  \n",
      " |  __new__(*args, **kwargs) from builtins.type\n",
      " |      Create and return a new object.  See help(type) for accurate signature.\n",
      " |  \n",
      " |  ----------------------------------------------------------------------\n",
      " |  Data and other attributes inherited from builtins.dict:\n",
      " |  \n",
      " |  __hash__ = None\n",
      "\n"
     ]
    }
   ],
   "source": [
    "help(nltk.ConditionalFreqDist)"
   ]
  },
  {
   "cell_type": "code",
   "execution_count": 11,
   "metadata": {},
   "outputs": [
    {
     "data": {
      "text/plain": [
       "<ConditionalFreqDist with 12 conditions>"
      ]
     },
     "execution_count": 11,
     "metadata": {},
     "output_type": "execute_result"
    }
   ],
   "source": [
    "cfreq_text1_bigrams= nltk.ConditionalFreqDist(nltk.bigrams(words))\n",
    "cfreq_text1_bigrams"
   ]
  },
  {
   "cell_type": "markdown",
   "metadata": {},
   "source": [
    " What words occur after the word \"I\"? How often do those words occur? Check that!"
   ]
  },
  {
   "cell_type": "code",
   "execution_count": 12,
   "metadata": {},
   "outputs": [
    {
     "data": {
      "text/plain": [
       "FreqDist({'am': 2, 'like': 1, 'do': 1})"
      ]
     },
     "execution_count": 12,
     "metadata": {},
     "output_type": "execute_result"
    }
   ],
   "source": [
    "#YOUR CODE HERE\n",
    "cfreq_text1_bigrams['I']\n"
   ]
  },
  {
   "cell_type": "markdown",
   "metadata": {},
   "source": [
    "We all know that we can't draw conclusions from only frequencies. There are some words (usually connectors) that appear much more often tham others.\n",
    "\n",
    "But, we need to normalize all those figures that we have. Because of that, we will calculate conditional probabilities."
   ]
  },
  {
   "cell_type": "markdown",
   "metadata": {},
   "source": [
    "### Conditional probabilities\n",
    "\n",
    "Instead of checking just the frequency distributions, now you will build a set of probability distributions for each word in the corpus. You have to do it in a similar way, using the `nltk.ConditionalProbDist` class. Check the documentation and play with it. You can also check chapter 2.2 at the NLTK book (Bird and others, 2009)."
   ]
  },
  {
   "cell_type": "code",
   "execution_count": 28,
   "metadata": {},
   "outputs": [
    {
     "name": "stdout",
     "output_type": "stream",
     "text": [
      "('<s>', <ELEProbDist based on 4 samples>)\n",
      "('I', <ELEProbDist based on 4 samples>)\n",
      "('am', <ELEProbDist based on 2 samples>)\n",
      "('Sam', <ELEProbDist based on 2 samples>)\n",
      "('</s>', <ELEProbDist based on 3 samples>)\n",
      "('like', <ELEProbDist based on 2 samples>)\n",
      "('eggs', <ELEProbDist based on 2 samples>)\n",
      "('do', <ELEProbDist based on 1 samples>)\n",
      "('not', <ELEProbDist based on 1 samples>)\n",
      "('green', <ELEProbDist based on 1 samples>)\n",
      "('and', <ELEProbDist based on 1 samples>)\n",
      "('ham', <ELEProbDist based on 1 samples>)\n"
     ]
    }
   ],
   "source": [
    "#YOUR CODE HERE\n",
    "#help(nltk.ConditionalProbDist)\n",
    "cprob_text1_bigrams = nltk.ConditionalProbDist(cfreq_text1_bigrams, nltk.ELEProbDist, 10)\n",
    "for el in cprob_text1_bigrams.items():\n",
    "    print(el)"
   ]
  },
  {
   "cell_type": "markdown",
   "metadata": {},
   "source": [
    "### Sentence probability\n",
    "\n",
    "You calculate the probability of a sentence by multiplying the different conditional probabilities in the sentence. For instance, let us take the following sentence:\n",
    "\n",
    "`I like green eggs`\n",
    "\n",
    "We want to calculate the whole sentence probability,\n",
    "\n",
    "$P(<s>, I, like, green, eggs, </s>)$\n",
    "\n",
    "which, by using the Markov property, we can model by multiplying bigram probabilities:\n",
    "\n",
    "$P(<s>, I, like, green, eggs, </s>) = $\n",
    "\n",
    "$P(I | <s>) * P(like | I) * P(green | like) * P(eggs | green) * P(</s> | eggs)$\n"
   ]
  },
  {
   "cell_type": "code",
   "execution_count": 12,
   "metadata": {},
   "outputs": [],
   "source": [
    "#YOUR CODE HERE\n"
   ]
  },
  {
   "cell_type": "markdown",
   "metadata": {},
   "source": [
    "### Final exercise\n",
    "\n",
    "Now, you learned about how to create simple language models. The goal now is to see how can we use them in real life. Language models are been used in the last years for a wide variety of topics.\n",
    "\n",
    "In this last exercise we will do something similar. You will have to get two texts from project gutenberg:\n",
    "\n",
    " - Alice's adventures in Wonderland: 'carroll-alice.txt'\n",
    " \n",
    " - Austen's Sense and Sensibility: 'austen-sense.txt'\n",
    " \n",
    "Calculate separate bigram language models and then find out some word sequences that are more probable for one author or another. You can find the books at http://www.gutenberg.org/files/11/11-h/11-h.htm and https://www.gutenberg.org/files/161/161-h/161-h.htm, respectively. \n",
    "Do you imagine it would be easy/possible to find one or more whole sentences that have a non empty probability in both novels?"
   ]
  },
  {
   "cell_type": "code",
   "execution_count": 24,
   "metadata": {},
   "outputs": [],
   "source": [
    "#YOUR CODE HERE\n",
    "\n"
   ]
  }
 ],
 "metadata": {
  "kernelspec": {
   "display_name": "Python 3 (ipykernel)",
   "language": "python",
   "name": "python3"
  },
  "language_info": {
   "codemirror_mode": {
    "name": "ipython",
    "version": 3
   },
   "file_extension": ".py",
   "mimetype": "text/x-python",
   "name": "python",
   "nbconvert_exporter": "python",
   "pygments_lexer": "ipython3",
   "version": "3.11.5"
  }
 },
 "nbformat": 4,
 "nbformat_minor": 2
}
