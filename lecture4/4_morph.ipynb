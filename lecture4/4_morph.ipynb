{
 "cells": [
  {
   "cell_type": "code",
   "execution_count": 2,
   "id": "38d156f8",
   "metadata": {},
   "outputs": [],
   "source": [
    "import nltk\n",
    "from nltk.probability import *\n",
    "from nltk.corpus import PlaintextCorpusReader\n",
    "from nltk import word_tokenize, sent_tokenize\n",
    "from nltk.util import * \n",
    "from nltk.text import *\n",
    "from nltk import pos_tag, pos_tag_sents\n",
    "from nltk import RegexpParser\n"
   ]
  },
  {
   "cell_type": "markdown",
   "id": "d0908b05",
   "metadata": {},
   "source": [
    "## Downloading files from WEB 2.1 LTK book"
   ]
  },
  {
   "cell_type": "code",
   "execution_count": 3,
   "id": "f8a9350e",
   "metadata": {},
   "outputs": [
    {
     "data": {
      "text/plain": [
       "bytes"
      ]
     },
     "execution_count": 3,
     "metadata": {},
     "output_type": "execute_result"
    }
   ],
   "source": [
    "from urllib.request import urlopen\n",
    "url = \"https://www.gutenberg.org/files/1661/1661-0.txt\"\n",
    "raw_1 = urlopen(url).read()\n",
    "type(raw_1)"
   ]
  },
  {
   "cell_type": "code",
   "execution_count": 4,
   "id": "89398b55",
   "metadata": {},
   "outputs": [
    {
     "data": {
      "text/plain": [
       "str"
      ]
     },
     "execution_count": 4,
     "metadata": {},
     "output_type": "execute_result"
    }
   ],
   "source": [
    "raw= urlopen(url).read().decode(\"utf-8-sig\")   #decoding utf-8-sig for UTF8-BOM\n",
    "type(raw)"
   ]
  },
  {
   "cell_type": "code",
   "execution_count": 5,
   "id": "c40b7774",
   "metadata": {},
   "outputs": [
    {
     "name": "stdout",
     "output_type": "stream",
     "text": [
      "593730\n",
      "The Project Gutenberg eBook of The Adventures of Sherlock Holmes,\n",
      "by Arthur Conan Doyle\n",
      "\n"
     ]
    }
   ],
   "source": [
    "print(len(raw))\n",
    "print(raw[:90])"
   ]
  },
  {
   "cell_type": "markdown",
   "id": "37cddab6",
   "metadata": {},
   "source": [
    "## Tokenization"
   ]
  },
  {
   "cell_type": "code",
   "execution_count": 6,
   "id": "2172766d",
   "metadata": {},
   "outputs": [],
   "source": [
    "tokens = nltk.word_tokenize(raw)"
   ]
  },
  {
   "cell_type": "code",
   "execution_count": 7,
   "id": "2ce12ee9",
   "metadata": {},
   "outputs": [
    {
     "data": {
      "text/plain": [
       "list"
      ]
     },
     "execution_count": 7,
     "metadata": {},
     "output_type": "execute_result"
    }
   ],
   "source": [
    "type(tokens)"
   ]
  },
  {
   "cell_type": "code",
   "execution_count": 8,
   "id": "afaa613b",
   "metadata": {},
   "outputs": [
    {
     "data": {
      "text/plain": [
       "['The',\n",
       " 'Project',\n",
       " 'Gutenberg',\n",
       " 'eBook',\n",
       " 'of',\n",
       " 'The',\n",
       " 'Adventures',\n",
       " 'of',\n",
       " 'Sherlock']"
      ]
     },
     "execution_count": 8,
     "metadata": {},
     "output_type": "execute_result"
    }
   ],
   "source": [
    "tokens[:9]"
   ]
  },
  {
   "cell_type": "code",
   "execution_count": 9,
   "id": "cabec99e",
   "metadata": {},
   "outputs": [],
   "source": [
    "mysent=\"Mr. Brown went to visit his couisin, but he only found her husband, their children, and their dog.\""
   ]
  },
  {
   "cell_type": "code",
   "execution_count": 10,
   "id": "779738dc",
   "metadata": {},
   "outputs": [
    {
     "name": "stdout",
     "output_type": "stream",
     "text": [
      "['Mr.', 'Brown', 'went', 'to', 'visit', 'his', 'couisin', ',', 'but', 'he', 'only', 'found', 'her', 'husband', ',', 'their', 'children', ',', 'and', 'their', 'dog', '.'] \n",
      "This sentence contains: 22  tokens\n"
     ]
    }
   ],
   "source": [
    "mysent_tokens=word_tokenize(mysent)\n",
    "print(mysent_tokens, '\\nThis sentence contains:', len(mysent_tokens), ' tokens')    "
   ]
  },
  {
   "cell_type": "markdown",
   "id": "61b80ab8",
   "metadata": {},
   "source": [
    "## How many words?"
   ]
  },
  {
   "cell_type": "markdown",
   "id": "d1180e88",
   "metadata": {},
   "source": [
    "## Lemmatization\n",
    "## Lemmatisers present all words as their lemma, that is their dictionary headword form. E.g. am, are is, be, being --> be car, cars --> car woman, women --> woman child, children -->child\n",
    "## One lemmatiser in NLTK"
   ]
  },
  {
   "cell_type": "code",
   "execution_count": 11,
   "id": "4b035bbd",
   "metadata": {},
   "outputs": [
    {
     "data": {
      "text/plain": [
       "['Mr.',\n",
       " 'Brown',\n",
       " 'went',\n",
       " 'to',\n",
       " 'visit',\n",
       " 'his',\n",
       " 'couisin',\n",
       " ',',\n",
       " 'but',\n",
       " 'he',\n",
       " 'only',\n",
       " 'found',\n",
       " 'her',\n",
       " 'husband',\n",
       " ',',\n",
       " 'their',\n",
       " 'child',\n",
       " ',',\n",
       " 'and',\n",
       " 'their',\n",
       " 'dog',\n",
       " '.']"
      ]
     },
     "execution_count": 11,
     "metadata": {},
     "output_type": "execute_result"
    }
   ],
   "source": [
    "wnl=nltk.WordNetLemmatizer()\n",
    "[wnl.lemmatize(t) for t in mysent_tokens]"
   ]
  },
  {
   "cell_type": "markdown",
   "id": "8d1011cf",
   "metadata": {},
   "source": [
    "## PoS-tagging  pos_tag(sentence) default tagset (Penn treebank) other pos_tag(sentence,tagset=\"name_tagset\"), e.g universal, brown"
   ]
  },
  {
   "cell_type": "code",
   "execution_count": 12,
   "id": "9d8044da",
   "metadata": {},
   "outputs": [
    {
     "name": "stdout",
     "output_type": "stream",
     "text": [
      "Mr. NNP\n",
      "Brown NNP\n",
      "went VBD\n",
      "to TO\n",
      "visit VB\n",
      "his PRP$\n",
      "couisin NN\n",
      ", ,\n",
      "but CC\n",
      "he PRP\n",
      "only RB\n",
      "found VBD\n",
      "her PRP\n",
      "husband NN\n",
      ", ,\n",
      "their PRP$\n",
      "children NNS\n",
      ", ,\n",
      "and CC\n",
      "their PRP$\n",
      "dog NN\n",
      ". .\n"
     ]
    }
   ],
   "source": [
    "mysent_tagged=pos_tag(mysent_tokens)\n",
    "for word,tag in mysent_tagged:\n",
    "    print(word,tag)"
   ]
  },
  {
   "cell_type": "markdown",
   "id": "120ab94e",
   "metadata": {},
   "source": [
    "## Exploring the default tagset "
   ]
  },
  {
   "cell_type": "code",
   "execution_count": 13,
   "id": "9160d7d2",
   "metadata": {},
   "outputs": [
    {
     "name": "stdout",
     "output_type": "stream",
     "text": [
      "CC: conjunction, coordinating\n",
      "    & 'n and both but either et for less minus neither nor or plus so\n",
      "    therefore times v. versus vs. whether yet\n"
     ]
    }
   ],
   "source": [
    "# one specific tag\n",
    "nltk.help.upenn_tagset('CC')"
   ]
  },
  {
   "cell_type": "code",
   "execution_count": 14,
   "id": "fca0fecd",
   "metadata": {},
   "outputs": [
    {
     "name": "stdout",
     "output_type": "stream",
     "text": [
      "$: dollar\n",
      "    $ -$ --$ A$ C$ HK$ M$ NZ$ S$ U.S.$ US$\n",
      "'': closing quotation mark\n",
      "    ' ''\n",
      "(: opening parenthesis\n",
      "    ( [ {\n",
      "): closing parenthesis\n",
      "    ) ] }\n",
      ",: comma\n",
      "    ,\n",
      "--: dash\n",
      "    --\n",
      ".: sentence terminator\n",
      "    . ! ?\n",
      ":: colon or ellipsis\n",
      "    : ; ...\n",
      "CC: conjunction, coordinating\n",
      "    & 'n and both but either et for less minus neither nor or plus so\n",
      "    therefore times v. versus vs. whether yet\n",
      "CD: numeral, cardinal\n",
      "    mid-1890 nine-thirty forty-two one-tenth ten million 0.5 one forty-\n",
      "    seven 1987 twenty '79 zero two 78-degrees eighty-four IX '60s .025\n",
      "    fifteen 271,124 dozen quintillion DM2,000 ...\n",
      "DT: determiner\n",
      "    all an another any both del each either every half la many much nary\n",
      "    neither no some such that the them these this those\n",
      "EX: existential there\n",
      "    there\n",
      "FW: foreign word\n",
      "    gemeinschaft hund ich jeux habeas Haementeria Herr K'ang-si vous\n",
      "    lutihaw alai je jour objets salutaris fille quibusdam pas trop Monte\n",
      "    terram fiche oui corporis ...\n",
      "IN: preposition or conjunction, subordinating\n",
      "    astride among uppon whether out inside pro despite on by throughout\n",
      "    below within for towards near behind atop around if like until below\n",
      "    next into if beside ...\n",
      "JJ: adjective or numeral, ordinal\n",
      "    third ill-mannered pre-war regrettable oiled calamitous first separable\n",
      "    ectoplasmic battery-powered participatory fourth still-to-be-named\n",
      "    multilingual multi-disciplinary ...\n",
      "JJR: adjective, comparative\n",
      "    bleaker braver breezier briefer brighter brisker broader bumper busier\n",
      "    calmer cheaper choosier cleaner clearer closer colder commoner costlier\n",
      "    cozier creamier crunchier cuter ...\n",
      "JJS: adjective, superlative\n",
      "    calmest cheapest choicest classiest cleanest clearest closest commonest\n",
      "    corniest costliest crassest creepiest crudest cutest darkest deadliest\n",
      "    dearest deepest densest dinkiest ...\n",
      "LS: list item marker\n",
      "    A A. B B. C C. D E F First G H I J K One SP-44001 SP-44002 SP-44005\n",
      "    SP-44007 Second Third Three Two * a b c d first five four one six three\n",
      "    two\n",
      "MD: modal auxiliary\n",
      "    can cannot could couldn't dare may might must need ought shall should\n",
      "    shouldn't will would\n",
      "NN: noun, common, singular or mass\n",
      "    common-carrier cabbage knuckle-duster Casino afghan shed thermostat\n",
      "    investment slide humour falloff slick wind hyena override subhumanity\n",
      "    machinist ...\n",
      "NNP: noun, proper, singular\n",
      "    Motown Venneboerger Czestochwa Ranzer Conchita Trumplane Christos\n",
      "    Oceanside Escobar Kreisler Sawyer Cougar Yvette Ervin ODI Darryl CTCA\n",
      "    Shannon A.K.C. Meltex Liverpool ...\n",
      "NNPS: noun, proper, plural\n",
      "    Americans Americas Amharas Amityvilles Amusements Anarcho-Syndicalists\n",
      "    Andalusians Andes Andruses Angels Animals Anthony Antilles Antiques\n",
      "    Apache Apaches Apocrypha ...\n",
      "NNS: noun, common, plural\n",
      "    undergraduates scotches bric-a-brac products bodyguards facets coasts\n",
      "    divestitures storehouses designs clubs fragrances averages\n",
      "    subjectivists apprehensions muses factory-jobs ...\n",
      "PDT: pre-determiner\n",
      "    all both half many quite such sure this\n",
      "POS: genitive marker\n",
      "    ' 's\n",
      "PRP: pronoun, personal\n",
      "    hers herself him himself hisself it itself me myself one oneself ours\n",
      "    ourselves ownself self she thee theirs them themselves they thou thy us\n",
      "PRP$: pronoun, possessive\n",
      "    her his mine my our ours their thy your\n",
      "RB: adverb\n",
      "    occasionally unabatingly maddeningly adventurously professedly\n",
      "    stirringly prominently technologically magisterially predominately\n",
      "    swiftly fiscally pitilessly ...\n",
      "RBR: adverb, comparative\n",
      "    further gloomier grander graver greater grimmer harder harsher\n",
      "    healthier heavier higher however larger later leaner lengthier less-\n",
      "    perfectly lesser lonelier longer louder lower more ...\n",
      "RBS: adverb, superlative\n",
      "    best biggest bluntest earliest farthest first furthest hardest\n",
      "    heartiest highest largest least less most nearest second tightest worst\n",
      "RP: particle\n",
      "    aboard about across along apart around aside at away back before behind\n",
      "    by crop down ever fast for forth from go high i.e. in into just later\n",
      "    low more off on open out over per pie raising start teeth that through\n",
      "    under unto up up-pp upon whole with you\n",
      "SYM: symbol\n",
      "    % & ' '' ''. ) ). * + ,. < = > @ A[fj] U.S U.S.S.R * ** ***\n",
      "TO: \"to\" as preposition or infinitive marker\n",
      "    to\n",
      "UH: interjection\n",
      "    Goodbye Goody Gosh Wow Jeepers Jee-sus Hubba Hey Kee-reist Oops amen\n",
      "    huh howdy uh dammit whammo shucks heck anyways whodunnit honey golly\n",
      "    man baby diddle hush sonuvabitch ...\n",
      "VB: verb, base form\n",
      "    ask assemble assess assign assume atone attention avoid bake balkanize\n",
      "    bank begin behold believe bend benefit bevel beware bless boil bomb\n",
      "    boost brace break bring broil brush build ...\n",
      "VBD: verb, past tense\n",
      "    dipped pleaded swiped regummed soaked tidied convened halted registered\n",
      "    cushioned exacted snubbed strode aimed adopted belied figgered\n",
      "    speculated wore appreciated contemplated ...\n",
      "VBG: verb, present participle or gerund\n",
      "    telegraphing stirring focusing angering judging stalling lactating\n",
      "    hankerin' alleging veering capping approaching traveling besieging\n",
      "    encrypting interrupting erasing wincing ...\n",
      "VBN: verb, past participle\n",
      "    multihulled dilapidated aerosolized chaired languished panelized used\n",
      "    experimented flourished imitated reunifed factored condensed sheared\n",
      "    unsettled primed dubbed desired ...\n",
      "VBP: verb, present tense, not 3rd person singular\n",
      "    predominate wrap resort sue twist spill cure lengthen brush terminate\n",
      "    appear tend stray glisten obtain comprise detest tease attract\n",
      "    emphasize mold postpone sever return wag ...\n",
      "VBZ: verb, present tense, 3rd person singular\n",
      "    bases reconstructs marks mixes displeases seals carps weaves snatches\n",
      "    slumps stretches authorizes smolders pictures emerges stockpiles\n",
      "    seduces fizzes uses bolsters slaps speaks pleads ...\n",
      "WDT: WH-determiner\n",
      "    that what whatever which whichever\n",
      "WP: WH-pronoun\n",
      "    that what whatever whatsoever which who whom whosoever\n",
      "WP$: WH-pronoun, possessive\n",
      "    whose\n",
      "WRB: Wh-adverb\n",
      "    how however whence whenever where whereby whereever wherein whereof why\n",
      "``: opening quotation mark\n",
      "    ` ``\n"
     ]
    }
   ],
   "source": [
    "## all tags\n",
    "nltk.help.upenn_tagset()"
   ]
  },
  {
   "cell_type": "code",
   "execution_count": 15,
   "id": "3b03f618",
   "metadata": {},
   "outputs": [
    {
     "name": "stdout",
     "output_type": "stream",
     "text": [
      "['Mr.', 'Brown', 'went', 'to', 'visit', 'his', 'mother', ',', 'and', 'father', ',', 'but', 'he', 'only', 'found', 'their', 'dog', '.', 'His', 'mother', 'and', 'father', 'were', 'gone', 'to', 'the', 'bookshop', 'to', 'buy', 'a', 'book', '.', 'It', 'costed', '2.50', '$', '.', 'It', 'was', 'expensive', '.']\n",
      "[('Mr.', 'NNP'), ('Brown', 'NNP'), ('went', 'VBD'), ('to', 'TO'), ('visit', 'VB'), ('his', 'PRP$'), ('mother', 'NN'), (',', ','), ('and', 'CC'), ('father', 'RB'), (',', ','), ('but', 'CC'), ('he', 'PRP'), ('only', 'RB'), ('found', 'VBD'), ('their', 'PRP$'), ('dog', 'NN'), ('.', '.'), ('His', 'PRP$'), ('mother', 'NN'), ('and', 'CC'), ('father', 'NN'), ('were', 'VBD'), ('gone', 'VBN'), ('to', 'TO'), ('the', 'DT'), ('bookshop', 'NN'), ('to', 'TO'), ('buy', 'VB'), ('a', 'DT'), ('book', 'NN'), ('.', '.'), ('It', 'PRP'), ('costed', 'VBD'), ('2.50', 'CD'), ('$', '$'), ('.', '.'), ('It', 'PRP'), ('was', 'VBD'), ('expensive', 'JJ'), ('.', '.')]\n"
     ]
    }
   ],
   "source": [
    "# more sentences\n",
    "my_text=\"Mr. Brown went to visit his mother, and father, but he only found their dog. His mother and father were gone to the bookshop to buy a book. It costed 2.50 $. It was expensive.\"\n",
    "mytext_tokens=word_tokenize(my_text)\n",
    "mytext_tagged=pos_tag(mytext_tokens)\n",
    "print(mytext_tokens)\n",
    "print(mytext_tagged)"
   ]
  },
  {
   "cell_type": "markdown",
   "id": "d3a576d9",
   "metadata": {},
   "source": [
    "##  Exercise1: Identify sentences in the following text: \n",
    "TIP: use sentence tokenizer \n",
    "\"Driven by intellectual creativity and critical thinking since 1479, researchers and students at the University of Copenhagen have expanded horizons and contributed to moving the world forward. With its 5,000 researchers and 37,500 students, the University boasts an international research and study environment and is highly ranked on the leading ranking lists of the world's best universities.\n",
    "\n",
    "The University offers researchers and students the opportunity to develop their talent and launches ambitious interdisciplinary initiatives to support its strong academic communities. Through research-based teaching – and by involving them in research – students are equipped to address society's challenges and needs.\""
   ]
  },
  {
   "cell_type": "markdown",
   "id": "bd8cb523",
   "metadata": {},
   "source": [
    "## Exercise 2: \n",
    "## a. Print each word and its corresponding PoS-tag on a line. Word and PoS-tag must be separated by a tabulator.\n",
    "## b. Write a function that does the same as in the previous, but writes the words and PoS-tags to a file: \"outtags.txt\"."
   ]
  },
  {
   "cell_type": "markdown",
   "id": "7ebec675",
   "metadata": {},
   "source": [
    "## Exercise 3: \n",
    "## Extract the tags from the tagged sentences."
   ]
  },
  {
   "cell_type": "markdown",
   "id": "d85a37a5",
   "metadata": {},
   "source": [
    "## Exercise 4: \n",
    "## Read the file  \"PicturesfromItaly_Rome.txt\" (download from Absalon) and process it (sentence identification, tokenization and PoS-tagging)."
   ]
  },
  {
   "cell_type": "markdown",
   "id": "d4586797",
   "metadata": {},
   "source": [
    "## Exercise 5: \n",
    "## Print the tags in the file with their frequence in descending order."
   ]
  },
  {
   "cell_type": "markdown",
   "id": "a8a92819",
   "metadata": {},
   "source": [
    "## From NLTK: Various types of PoS-taggers "
   ]
  },
  {
   "cell_type": "code",
   "execution_count": 16,
   "id": "a3e65f10",
   "metadata": {},
   "outputs": [],
   "source": [
    "txt1='I have not read any newspaper this morning. Is there any big news?'"
   ]
  },
  {
   "cell_type": "markdown",
   "id": "42925833",
   "metadata": {},
   "source": [
    "## Tagger 1: all words NN why?"
   ]
  },
  {
   "cell_type": "code",
   "execution_count": 17,
   "id": "33f234da",
   "metadata": {},
   "outputs": [
    {
     "data": {
      "text/plain": [
       "[('I', 'NN'),\n",
       " ('have', 'NN'),\n",
       " ('not', 'NN'),\n",
       " ('read', 'NN'),\n",
       " ('any', 'NN'),\n",
       " ('newspaper', 'NN'),\n",
       " ('this', 'NN'),\n",
       " ('morning', 'NN'),\n",
       " ('.', 'NN'),\n",
       " ('Is', 'NN'),\n",
       " ('there', 'NN'),\n",
       " ('any', 'NN'),\n",
       " ('big', 'NN'),\n",
       " ('news', 'NN'),\n",
       " ('?', 'NN')]"
      ]
     },
     "execution_count": 17,
     "metadata": {},
     "output_type": "execute_result"
    }
   ],
   "source": [
    "tokens = nltk.word_tokenize(txt1)\n",
    "default_tagger = nltk.DefaultTagger('NN')\n",
    "default_tagger.tag(tokens)"
   ]
  },
  {
   "cell_type": "markdown",
   "id": "5fa4f2c5",
   "metadata": {},
   "source": [
    "## tagger 2:  using regular expressions"
   ]
  },
  {
   "cell_type": "code",
   "execution_count": 18,
   "id": "2400c122",
   "metadata": {},
   "outputs": [
    {
     "data": {
      "text/plain": [
       "[('I', 'NN'),\n",
       " ('have', 'NN'),\n",
       " ('not', 'NN'),\n",
       " ('read', 'NN'),\n",
       " ('any', 'NN'),\n",
       " ('newspaper', 'NN'),\n",
       " ('this', 'NNS'),\n",
       " ('morning', 'VBG'),\n",
       " ('.', 'NN'),\n",
       " ('Is', 'NNS'),\n",
       " ('there', 'NN'),\n",
       " ('any', 'NN'),\n",
       " ('big', 'NN'),\n",
       " ('news', 'NNS'),\n",
       " ('?', 'NN')]"
      ]
     },
     "execution_count": 18,
     "metadata": {},
     "output_type": "execute_result"
    }
   ],
   "source": [
    "patterns = [\n",
    "    (r'.*ing$', 'VBG'),                # gerunds\n",
    "    (r'.*ed$', 'VBD'),                 # simple past\n",
    "    (r'.*es$', 'VBZ'),                 # 3rd singular present\n",
    "    (r'.*ould$', 'MD'),                # modals\n",
    "    (r'.*\\'s$', 'NN$'),                # possessive nouns\n",
    "    (r'.*s$', 'NNS'),                  # plural nouns\n",
    "    (r'^-?[0-9]+(\\.[0-9]+)?$', 'CD'),  # cardinal numbers\n",
    "    (r'.*', 'NN')        ]              # nouns (default)]\n",
    "regexp_tagger = nltk.RegexpTagger(patterns)\n",
    "regexp_tagger.tag(tokens)"
   ]
  },
  {
   "cell_type": "markdown",
   "id": "b0426bbd",
   "metadata": {},
   "source": [
    "### Exercise 6:\n",
    "Now we want to add a pattern for personal pronouns (PRP).\n",
    "Add  the new regular expressions to the patterns list and run the resulting regexp_tagger on tokens."
   ]
  }
 ],
 "metadata": {
  "kernelspec": {
   "display_name": "Python 3 (ipykernel)",
   "language": "python",
   "name": "python3"
  },
  "language_info": {
   "codemirror_mode": {
    "name": "ipython",
    "version": 3
   },
   "file_extension": ".py",
   "mimetype": "text/x-python",
   "name": "python",
   "nbconvert_exporter": "python",
   "pygments_lexer": "ipython3",
   "version": "3.11.5"
  }
 },
 "nbformat": 4,
 "nbformat_minor": 5
}
