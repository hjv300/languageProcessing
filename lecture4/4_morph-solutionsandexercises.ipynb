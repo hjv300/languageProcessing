{
 "cells": [
  {
   "cell_type": "code",
   "execution_count": null,
   "id": "38d156f8",
   "metadata": {},
   "outputs": [],
   "source": [
    "import nltk\n",
    "from nltk.probability import *\n",
    "from nltk.corpus import PlaintextCorpusReader\n",
    "from nltk import word_tokenize, sent_tokenize\n",
    "from nltk.util import * \n",
    "from nltk.text import *\n",
    "from nltk import pos_tag, pos_tag_sents\n",
    "from nltk import RegexpParser\n"
   ]
  },
  {
   "cell_type": "code",
   "execution_count": null,
   "id": "cabec99e",
   "metadata": {},
   "outputs": [],
   "source": [
    "mysent=\"Mr. Brown went to visit his couisin, but he only found her husband, their children, and their dog.\""
   ]
  },
  {
   "cell_type": "code",
   "execution_count": null,
   "id": "779738dc",
   "metadata": {},
   "outputs": [],
   "source": [
    "mysent_tokens=word_tokenize(mysent)\n",
    "print(mysent_tokens, '\\nThis sentence contains:', len(mysent_tokens), ' tokens')    "
   ]
  },
  {
   "cell_type": "markdown",
   "id": "61b80ab8",
   "metadata": {},
   "source": [
    "## How many words?\n",
    "\n",
    "#### 18"
   ]
  },
  {
   "cell_type": "markdown",
   "id": "d3a576d9",
   "metadata": {},
   "source": [
    "##  Exercise1: Identify sentences in the following text: \n",
    "TIP: use sentence tokenizer \n",
    "\"Driven by intellectual creativity and critical thinking since 1479, researchers and students at the University of Copenhagen have expanded horizons and contributed to moving the world forward. With its 5,000 researchers and 37,500 students, the University boasts an international research and study environment and is highly ranked on the leading ranking lists of the world's best universities.\n",
    "\n",
    "The University offers researchers and students the opportunity to develop their talent and launches ambitious interdisciplinary initiatives to support its strong academic communities. Through research-based teaching – and by involving them in research – students are equipped to address society's challenges and needs.\""
   ]
  },
  {
   "cell_type": "code",
   "execution_count": null,
   "id": "4382995c",
   "metadata": {},
   "outputs": [],
   "source": [
    "text1=\"\"\"Driven by intellectual creativity and critical thinking since 1479, researchers and students at the University of Copenhagen have expanded horizons and contributed to moving the world forward. With its 5,000 researchers and 37,500 students, the University boasts an international research and study environment and is highly ranked on the leading ranking lists of the world's best universities.\n",
    "\n",
    "The University offers researchers and students the opportunity to develop their talent and launches ambitious interdisciplinary initiatives to support its strong academic communities. Through research-based teaching – and by involving them in research – students are equipped to address society's challenges and needs.\"\"\"\n",
    "text1_sents=sent_tokenize(text1)\n",
    "text1_sents"
   ]
  },
  {
   "cell_type": "markdown",
   "id": "98823f56",
   "metadata": {},
   "source": [
    "## Exercise 2:\n",
    "a. Print each word and its corresponding PoS-tag on a line. Word and PoS-tag must be separated by a tabulator."
   ]
  },
  {
   "cell_type": "code",
   "execution_count": null,
   "id": "4e5d2b17",
   "metadata": {},
   "outputs": [],
   "source": [
    "mytokens=[word_tokenize(s) for s in text1_sents]\n",
    "print(mytokens)"
   ]
  },
  {
   "cell_type": "code",
   "execution_count": null,
   "id": "027c8fb3",
   "metadata": {},
   "outputs": [],
   "source": [
    "mysent_tagged=pos_tag_sents(mytokens)\n",
    "for sent in mysent_tagged:\n",
    "    for w,t in sent:\n",
    "        print(t,\"\\t\",w)"
   ]
  },
  {
   "cell_type": "markdown",
   "id": "7ebec675",
   "metadata": {},
   "source": [
    "### Exercise 2 b. Write a function that does the same as in the previous, but writes the words and PoS-tags to a file: \"outtags.txt\". \n",
    "## Exercise 3: \n",
    "## Extract the tags from the tagged sentences."
   ]
  },
  {
   "cell_type": "markdown",
   "id": "d85a37a5",
   "metadata": {},
   "source": [
    "## Exercise 4: \n",
    "## Read the file  \"PicturesfromItaly_Rome.txt\" (download from Absalon) and process it (sentence identification, tokenization and PoS-tagging)."
   ]
  },
  {
   "cell_type": "markdown",
   "id": "d4586797",
   "metadata": {},
   "source": [
    "## Exercise 5: \n",
    "## Print the tags in the file with their frequence in descending order."
   ]
  }
 ],
 "metadata": {
  "kernelspec": {
   "display_name": "Python 3 (ipykernel)",
   "language": "python",
   "name": "python3"
  },
  "language_info": {
   "codemirror_mode": {
    "name": "ipython",
    "version": 3
   },
   "file_extension": ".py",
   "mimetype": "text/x-python",
   "name": "python",
   "nbconvert_exporter": "python",
   "pygments_lexer": "ipython3",
   "version": "3.8.13"
  }
 },
 "nbformat": 4,
 "nbformat_minor": 5
}
