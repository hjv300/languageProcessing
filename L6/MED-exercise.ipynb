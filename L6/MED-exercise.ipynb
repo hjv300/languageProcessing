{
 "cells": [
  {
   "cell_type": "markdown",
   "id": "a2e4dc5d",
   "metadata": {},
   "source": [
    "### Minimum Edit Distance\n",
    "\n",
    "Below you can find a function for calculating the Minimum Edit Distance between two strings. Unfortunately, the implementation is missing one crucial part, the one that fills in the table.\n",
    "\n",
    "Can you fill it in by yourself?"
   ]
  },
  {
   "cell_type": "code",
   "execution_count": 1,
   "id": "cb6646b1",
   "metadata": {},
   "outputs": [],
   "source": [
    "import numpy as np"
   ]
  },
  {
   "cell_type": "code",
   "execution_count": 6,
   "id": "4d1175b6",
   "metadata": {},
   "outputs": [
    {
     "name": "stdout",
     "output_type": "stream",
     "text": [
      "[[5. 6. 7. 6. 5. 4.]\n",
      " [4. 5. 6. 5. 4. 5.]\n",
      " [3. 4. 5. 4. 5. 6.]\n",
      " [2. 3. 4. 3. 4. 5.]\n",
      " [1. 2. 3. 4. 5. 6.]\n",
      " [0. 1. 2. 3. 4. 5.]]\n"
     ]
    },
    {
     "data": {
      "text/plain": [
       "4.0"
      ]
     },
     "execution_count": 6,
     "metadata": {},
     "output_type": "execute_result"
    }
   ],
   "source": [
    "ops=['i','d','s']\n",
    "\n",
    "def MED (src_str,trg_str):\n",
    "    src_str = \"#\"+src_str\n",
    "    trg_str = \"#\"+trg_str\n",
    "    \n",
    "    ins_cost = 1\n",
    "    del_cost = 1\n",
    "    sub_cost = 2\n",
    "    \n",
    "    m = len(src_str)\n",
    "    n = len(trg_str)\n",
    "    \n",
    "    #INITIALIZE DISTANCE MATRIX WITH ZEROS\n",
    "    distance_matrix = np.zeros((n,m))\n",
    "\n",
    "    #INITIALIZE COLUMN 0 VALUES\n",
    "    distance_matrix [:,0] = np.arange(0,n,del_cost)\n",
    "    #INITIALIZE ROW 0 VALUES\n",
    "    distance_matrix [0,:] = np.arange(0,m,ins_cost)    \n",
    "    \n",
    "    #Fill in the table\n",
    "    for i in range(1, n):\n",
    "        for j in range(1, m):\n",
    "            #insertion\n",
    "            insertion = distance_matrix[i, j - 1] + ins_cost\n",
    "            deletion = distance_matrix[i - 1, j] + del_cost\n",
    "            if src_str[j] == trg_str[i]:\n",
    "                substitution = distance_matrix[i - 1, j -1 ]\n",
    "            else:\n",
    "                substitution = distance_matrix[i - 1, j - 1] + sub_cost\n",
    "            distance_matrix[i,j] = min([insertion, deletion, substitution])\n",
    "            \n",
    "    #If you uncomment the following command you can see\n",
    "    #the distance matrix in the same way\n",
    "    #that appears in Figure 3.27 from the SLP2 book, page 111.\n",
    "    print (np.flip(distance_matrix.T, axis=0))\n",
    "    \n",
    "    #RETURN THE LAST ELEMENT\n",
    "    return distance_matrix[-1,-1]\n",
    "\n",
    "MED (\"HOUSE\",\"PROSE\")"
   ]
  }
 ],
 "metadata": {
  "kernelspec": {
   "display_name": "Python 3",
   "language": "python",
   "name": "python3"
  },
  "language_info": {
   "codemirror_mode": {
    "name": "ipython",
    "version": 3
   },
   "file_extension": ".py",
   "mimetype": "text/x-python",
   "name": "python",
   "nbconvert_exporter": "python",
   "pygments_lexer": "ipython3",
   "version": "3.11.5"
  }
 },
 "nbformat": 4,
 "nbformat_minor": 5
}
